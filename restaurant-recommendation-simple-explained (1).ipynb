{
 "cells": [
  {
   "cell_type": "markdown",
   "id": "4f93af49",
   "metadata": {
    "papermill": {
     "duration": 0.016107,
     "end_time": "2022-07-15T22:00:29.236369",
     "exception": false,
     "start_time": "2022-07-15T22:00:29.220262",
     "status": "completed"
    },
    "tags": []
   },
   "source": [
    "# Task: Generate Meaningful Restaurant Recommendations\n",
    "#### Build a Recommender System to provide meaningful restaurant recommendations from TripAdvisor Website\n",
    "\n",
    "![](https://img.freepik.com/premium-vector/cartoon-chef-show-ok_61878-753.jpg)"
   ]
  },
  {
   "cell_type": "markdown",
   "id": "3afe76c4",
   "metadata": {
    "papermill": {
     "duration": 0.015814,
     "end_time": "2022-07-15T22:00:29.267667",
     "exception": false,
     "start_time": "2022-07-15T22:00:29.251853",
     "status": "completed"
    },
    "tags": []
   },
   "source": [
    "# Dependencies and Data"
   ]
  },
  {
   "cell_type": "markdown",
   "id": "f4f1faf1",
   "metadata": {
    "papermill": {
     "duration": 0.019057,
     "end_time": "2022-07-15T22:00:29.304474",
     "exception": false,
     "start_time": "2022-07-15T22:00:29.285417",
     "status": "completed"
    },
    "tags": []
   },
   "source": [
    "##  Import Dependencies"
   ]
  },
  {
   "cell_type": "code",
   "execution_count": 1,
   "id": "8a15f9dc",
   "metadata": {
    "execution": {
     "iopub.execute_input": "2022-07-15T22:00:29.342312Z",
     "iopub.status.busy": "2022-07-15T22:00:29.341629Z",
     "iopub.status.idle": "2022-07-15T22:00:30.385752Z",
     "shell.execute_reply": "2022-07-15T22:00:30.384760Z"
    },
    "papermill": {
     "duration": 1.067776,
     "end_time": "2022-07-15T22:00:30.388459",
     "exception": false,
     "start_time": "2022-07-15T22:00:29.320683",
     "status": "completed"
    },
    "tags": []
   },
   "outputs": [],
   "source": [
    "import pandas as pd\n",
    "import numpy as np\n",
    "import matplotlib.pyplot as plt\n",
    "import seaborn as sns\n",
    "import itertools\n",
    "import pandas as pd\n",
    "import numpy as np\n",
    "import matplotlib.pyplot as plt\n",
    "\n",
    "from sklearn.feature_extraction.text import TfidfVectorizer\n",
    "from sklearn.metrics.pairwise import linear_kernel"
   ]
  },
  {
   "cell_type": "markdown",
   "id": "47b680ae",
   "metadata": {
    "papermill": {
     "duration": 0.01504,
     "end_time": "2022-07-15T22:00:30.418872",
     "exception": false,
     "start_time": "2022-07-15T22:00:30.403832",
     "status": "completed"
    },
    "tags": []
   },
   "source": [
    "## Import Data"
   ]
  },
  {
   "cell_type": "code",
   "execution_count": 2,
   "id": "6dcd82d3",
   "metadata": {
    "execution": {
     "iopub.execute_input": "2022-07-15T22:00:30.451001Z",
     "iopub.status.busy": "2022-07-15T22:00:30.450596Z",
     "iopub.status.idle": "2022-07-15T22:00:30.533286Z",
     "shell.execute_reply": "2022-07-15T22:00:30.532316Z"
    },
    "papermill": {
     "duration": 0.101814,
     "end_time": "2022-07-15T22:00:30.535978",
     "exception": false,
     "start_time": "2022-07-15T22:00:30.434164",
     "status": "completed"
    },
    "tags": []
   },
   "outputs": [
    {
     "data": {
      "text/html": [
       "<div>\n",
       "<style scoped>\n",
       "    .dataframe tbody tr th:only-of-type {\n",
       "        vertical-align: middle;\n",
       "    }\n",
       "\n",
       "    .dataframe tbody tr th {\n",
       "        vertical-align: top;\n",
       "    }\n",
       "\n",
       "    .dataframe thead th {\n",
       "        text-align: right;\n",
       "    }\n",
       "</style>\n",
       "<table border=\"1\" class=\"dataframe\">\n",
       "  <thead>\n",
       "    <tr style=\"text-align: right;\">\n",
       "      <th></th>\n",
       "      <th>Name</th>\n",
       "      <th>Street Address</th>\n",
       "      <th>Location</th>\n",
       "      <th>Type</th>\n",
       "      <th>Reviews</th>\n",
       "      <th>No of Reviews</th>\n",
       "      <th>Comments</th>\n",
       "      <th>Contact Number</th>\n",
       "      <th>Trip_advisor Url</th>\n",
       "      <th>Menu</th>\n",
       "      <th>Price_Range</th>\n",
       "    </tr>\n",
       "  </thead>\n",
       "  <tbody>\n",
       "    <tr>\n",
       "      <th>0</th>\n",
       "      <td>Betty Lou's Seafood and Grill</td>\n",
       "      <td>318 Columbus Ave</td>\n",
       "      <td>San Francisco, CA 94133-3908</td>\n",
       "      <td>Seafood, Vegetarian Friendly, Vegan Options</td>\n",
       "      <td>4.5 of 5 bubbles</td>\n",
       "      <td>243 reviews</td>\n",
       "      <td>NaN</td>\n",
       "      <td>+1 415-757-0569</td>\n",
       "      <td>https://www.tripadvisor.com//Restaurant_Review...</td>\n",
       "      <td>Check The Website for a Menu</td>\n",
       "      <td>$$ - $$$</td>\n",
       "    </tr>\n",
       "    <tr>\n",
       "      <th>1</th>\n",
       "      <td>Coach House Diner</td>\n",
       "      <td>55 State Rt 4</td>\n",
       "      <td>Hackensack, NJ 07601-6337</td>\n",
       "      <td>Diner, American, Vegetarian Friendly</td>\n",
       "      <td>4 of 5 bubbles</td>\n",
       "      <td>84 reviews</td>\n",
       "      <td>Both times we were there very late, after 11 P...</td>\n",
       "      <td>+1 201-488-4999</td>\n",
       "      <td>https://www.tripadvisor.com//Restaurant_Review...</td>\n",
       "      <td>Check The Website for a Menu</td>\n",
       "      <td>$$ - $$$</td>\n",
       "    </tr>\n",
       "    <tr>\n",
       "      <th>2</th>\n",
       "      <td>Table Talk Diner</td>\n",
       "      <td>2521 South Rd Ste C</td>\n",
       "      <td>Poughkeepsie, NY 12601-5476</td>\n",
       "      <td>American, Diner, Vegetarian Friendly</td>\n",
       "      <td>4 of 5 bubbles</td>\n",
       "      <td>256 reviews</td>\n",
       "      <td>Waitress was very friendly but a little pricey...</td>\n",
       "      <td>+1 845-849-2839</td>\n",
       "      <td>https://www.tripadvisor.com//Restaurant_Review...</td>\n",
       "      <td>http://tabletalkdiner.com/menu/breakfast/</td>\n",
       "      <td>$$ - $$$</td>\n",
       "    </tr>\n",
       "    <tr>\n",
       "      <th>3</th>\n",
       "      <td>Sixty Vines</td>\n",
       "      <td>3701 Dallas Pkwy</td>\n",
       "      <td>Plano, TX 75093-7777</td>\n",
       "      <td>American, Wine Bar, Vegetarian Friendly</td>\n",
       "      <td>4.5 of 5 bubbles</td>\n",
       "      <td>235 reviews</td>\n",
       "      <td>Not sure why I went there for the second time....</td>\n",
       "      <td>+1 469-620-8463</td>\n",
       "      <td>https://www.tripadvisor.com//Restaurant_Review...</td>\n",
       "      <td>https://sixtyvines.com/menu/plano-tx/</td>\n",
       "      <td>$$ - $$$</td>\n",
       "    </tr>\n",
       "    <tr>\n",
       "      <th>4</th>\n",
       "      <td>The Clam Bar</td>\n",
       "      <td>3914 Brewerton Rd</td>\n",
       "      <td>Syracuse, NY 13212</td>\n",
       "      <td>American, Bar, Seafood</td>\n",
       "      <td>4 of 5 bubbles</td>\n",
       "      <td>285 reviews</td>\n",
       "      <td>Doesn't look like much from the outside but wa...</td>\n",
       "      <td>+1 315-458-1662</td>\n",
       "      <td>https://www.tripadvisor.com//Restaurant_Review...</td>\n",
       "      <td>Check The Website for a Menu</td>\n",
       "      <td>$$ - $$$</td>\n",
       "    </tr>\n",
       "    <tr>\n",
       "      <th>5</th>\n",
       "      <td>E Tutto Qua</td>\n",
       "      <td>270 Columbus Ave</td>\n",
       "      <td>San Francisco, CA 94133-4518</td>\n",
       "      <td>Seafood, Italian, Pizza</td>\n",
       "      <td>4.5 of 5 bubbles</td>\n",
       "      <td>1,406 reviews</td>\n",
       "      <td>NaN</td>\n",
       "      <td>+1 415-989-1002</td>\n",
       "      <td>https://www.tripadvisor.com//Restaurant_Review...</td>\n",
       "      <td>Check The Website for a Menu</td>\n",
       "      <td>$$ - $$$</td>\n",
       "    </tr>\n",
       "    <tr>\n",
       "      <th>6</th>\n",
       "      <td>Black Angus Steakhouse - Federal Way</td>\n",
       "      <td>2400 S 320th St</td>\n",
       "      <td>Federal Way, WA 98003-5465</td>\n",
       "      <td>American, Steakhouse, Bar</td>\n",
       "      <td>4 of 5 bubbles</td>\n",
       "      <td>220 reviews</td>\n",
       "      <td>This is an easy any time place to have dinner!...</td>\n",
       "      <td>+1 253-839-8370</td>\n",
       "      <td>https://www.tripadvisor.com//Restaurant_Review...</td>\n",
       "      <td>Check The Website for a Menu</td>\n",
       "      <td>$$ - $$$</td>\n",
       "    </tr>\n",
       "    <tr>\n",
       "      <th>7</th>\n",
       "      <td>Ziziki's</td>\n",
       "      <td>11663 Preston Rd</td>\n",
       "      <td>Dallas, TX 75230-2704</td>\n",
       "      <td>Mediterranean, Greek, Healthy</td>\n",
       "      <td>4.5 of 5 bubbles</td>\n",
       "      <td>89 reviews</td>\n",
       "      <td>My husband and I went to Greece last fall and ...</td>\n",
       "      <td>+1 469-232-9922</td>\n",
       "      <td>https://www.tripadvisor.com//Restaurant_Review...</td>\n",
       "      <td>Check The Website for a Menu</td>\n",
       "      <td>$$ - $$$</td>\n",
       "    </tr>\n",
       "    <tr>\n",
       "      <th>8</th>\n",
       "      <td>Vince's Italian Restaurant &amp; Pizzeria</td>\n",
       "      <td>2815 NE Sunset Blvd</td>\n",
       "      <td>Renton, WA 98056-3105</td>\n",
       "      <td>Italian, Pizza, Vegetarian Friendly</td>\n",
       "      <td>4 of 5 bubbles</td>\n",
       "      <td>90 reviews</td>\n",
       "      <td>I love Vince's pizza and I was in the neighbor...</td>\n",
       "      <td>+1 425-226-8180</td>\n",
       "      <td>https://www.tripadvisor.com//Restaurant_Review...</td>\n",
       "      <td>Check The Website for a Menu</td>\n",
       "      <td>$$ - $$$</td>\n",
       "    </tr>\n",
       "    <tr>\n",
       "      <th>9</th>\n",
       "      <td>John Thomas Steakhouse</td>\n",
       "      <td>1152 Danby Rd</td>\n",
       "      <td>Ithaca, NY 14850-8927</td>\n",
       "      <td>American, Steakhouse, Gluten Free Options</td>\n",
       "      <td>4 of 5 bubbles</td>\n",
       "      <td>258 reviews</td>\n",
       "      <td>The ambience, food and service were all excell...</td>\n",
       "      <td>+1 607-273-3464</td>\n",
       "      <td>https://www.tripadvisor.com//Restaurant_Review...</td>\n",
       "      <td>Check The Website for a Menu</td>\n",
       "      <td>$$$$</td>\n",
       "    </tr>\n",
       "  </tbody>\n",
       "</table>\n",
       "</div>"
      ],
      "text/plain": [
       "                                    Name       Street Address  \\\n",
       "0          Betty Lou's Seafood and Grill     318 Columbus Ave   \n",
       "1                      Coach House Diner        55 State Rt 4   \n",
       "2                       Table Talk Diner  2521 South Rd Ste C   \n",
       "3                            Sixty Vines     3701 Dallas Pkwy   \n",
       "4                           The Clam Bar    3914 Brewerton Rd   \n",
       "5                            E Tutto Qua     270 Columbus Ave   \n",
       "6   Black Angus Steakhouse - Federal Way      2400 S 320th St   \n",
       "7                               Ziziki's     11663 Preston Rd   \n",
       "8  Vince's Italian Restaurant & Pizzeria  2815 NE Sunset Blvd   \n",
       "9                 John Thomas Steakhouse        1152 Danby Rd   \n",
       "\n",
       "                       Location                                          Type  \\\n",
       "0  San Francisco, CA 94133-3908   Seafood, Vegetarian Friendly, Vegan Options   \n",
       "1     Hackensack, NJ 07601-6337          Diner, American, Vegetarian Friendly   \n",
       "2   Poughkeepsie, NY 12601-5476          American, Diner, Vegetarian Friendly   \n",
       "3          Plano, TX 75093-7777       American, Wine Bar, Vegetarian Friendly   \n",
       "4            Syracuse, NY 13212                        American, Bar, Seafood   \n",
       "5  San Francisco, CA 94133-4518                       Seafood, Italian, Pizza   \n",
       "6    Federal Way, WA 98003-5465                     American, Steakhouse, Bar   \n",
       "7         Dallas, TX 75230-2704                 Mediterranean, Greek, Healthy   \n",
       "8         Renton, WA 98056-3105           Italian, Pizza, Vegetarian Friendly   \n",
       "9         Ithaca, NY 14850-8927     American, Steakhouse, Gluten Free Options   \n",
       "\n",
       "            Reviews  No of Reviews  \\\n",
       "0  4.5 of 5 bubbles    243 reviews   \n",
       "1    4 of 5 bubbles     84 reviews   \n",
       "2    4 of 5 bubbles    256 reviews   \n",
       "3  4.5 of 5 bubbles    235 reviews   \n",
       "4    4 of 5 bubbles    285 reviews   \n",
       "5  4.5 of 5 bubbles  1,406 reviews   \n",
       "6    4 of 5 bubbles    220 reviews   \n",
       "7  4.5 of 5 bubbles     89 reviews   \n",
       "8    4 of 5 bubbles     90 reviews   \n",
       "9    4 of 5 bubbles    258 reviews   \n",
       "\n",
       "                                            Comments   Contact Number  \\\n",
       "0                                                NaN  +1 415-757-0569   \n",
       "1  Both times we were there very late, after 11 P...  +1 201-488-4999   \n",
       "2  Waitress was very friendly but a little pricey...  +1 845-849-2839   \n",
       "3  Not sure why I went there for the second time....  +1 469-620-8463   \n",
       "4  Doesn't look like much from the outside but wa...  +1 315-458-1662   \n",
       "5                                                NaN  +1 415-989-1002   \n",
       "6  This is an easy any time place to have dinner!...  +1 253-839-8370   \n",
       "7  My husband and I went to Greece last fall and ...  +1 469-232-9922   \n",
       "8  I love Vince's pizza and I was in the neighbor...  +1 425-226-8180   \n",
       "9  The ambience, food and service were all excell...  +1 607-273-3464   \n",
       "\n",
       "                                    Trip_advisor Url  \\\n",
       "0  https://www.tripadvisor.com//Restaurant_Review...   \n",
       "1  https://www.tripadvisor.com//Restaurant_Review...   \n",
       "2  https://www.tripadvisor.com//Restaurant_Review...   \n",
       "3  https://www.tripadvisor.com//Restaurant_Review...   \n",
       "4  https://www.tripadvisor.com//Restaurant_Review...   \n",
       "5  https://www.tripadvisor.com//Restaurant_Review...   \n",
       "6  https://www.tripadvisor.com//Restaurant_Review...   \n",
       "7  https://www.tripadvisor.com//Restaurant_Review...   \n",
       "8  https://www.tripadvisor.com//Restaurant_Review...   \n",
       "9  https://www.tripadvisor.com//Restaurant_Review...   \n",
       "\n",
       "                                        Menu Price_Range  \n",
       "0               Check The Website for a Menu    $$ - $$$  \n",
       "1               Check The Website for a Menu    $$ - $$$  \n",
       "2  http://tabletalkdiner.com/menu/breakfast/    $$ - $$$  \n",
       "3      https://sixtyvines.com/menu/plano-tx/    $$ - $$$  \n",
       "4               Check The Website for a Menu    $$ - $$$  \n",
       "5               Check The Website for a Menu    $$ - $$$  \n",
       "6               Check The Website for a Menu    $$ - $$$  \n",
       "7               Check The Website for a Menu    $$ - $$$  \n",
       "8               Check The Website for a Menu    $$ - $$$  \n",
       "9               Check The Website for a Menu        $$$$  "
      ]
     },
     "execution_count": 2,
     "metadata": {},
     "output_type": "execute_result"
    }
   ],
   "source": [
    "df = pd.read_csv(\"../input/tripadvisor-restaurant-recommendation-data-usa/TripAdvisor_RestauarantRecommendation.csv\")\n",
    "df.head(10)"
   ]
  },
  {
   "cell_type": "code",
   "execution_count": 3,
   "id": "d13103d3",
   "metadata": {
    "execution": {
     "iopub.execute_input": "2022-07-15T22:00:30.570334Z",
     "iopub.status.busy": "2022-07-15T22:00:30.570004Z",
     "iopub.status.idle": "2022-07-15T22:00:30.575826Z",
     "shell.execute_reply": "2022-07-15T22:00:30.575088Z"
    },
    "papermill": {
     "duration": 0.02517,
     "end_time": "2022-07-15T22:00:30.577553",
     "exception": false,
     "start_time": "2022-07-15T22:00:30.552383",
     "status": "completed"
    },
    "tags": []
   },
   "outputs": [
    {
     "data": {
      "text/plain": [
       "Index(['Name', 'Street Address', 'Location', 'Type', 'Reviews',\n",
       "       'No of Reviews', 'Comments', 'Contact Number', 'Trip_advisor Url',\n",
       "       'Menu', 'Price_Range'],\n",
       "      dtype='object')"
      ]
     },
     "execution_count": 3,
     "metadata": {},
     "output_type": "execute_result"
    }
   ],
   "source": [
    "### Looking at all the column names from the dataset\n",
    "df.columns"
   ]
  },
  {
   "cell_type": "markdown",
   "id": "ed6c5636",
   "metadata": {
    "papermill": {
     "duration": 0.015719,
     "end_time": "2022-07-15T22:00:30.609405",
     "exception": false,
     "start_time": "2022-07-15T22:00:30.593686",
     "status": "completed"
    },
    "tags": []
   },
   "source": [
    "We dont need **contact number, menu url** and **trip advisor url** for EDA or predictive modeling so let us remove it "
   ]
  },
  {
   "cell_type": "code",
   "execution_count": 4,
   "id": "d29dda00",
   "metadata": {
    "execution": {
     "iopub.execute_input": "2022-07-15T22:00:30.643464Z",
     "iopub.status.busy": "2022-07-15T22:00:30.642878Z",
     "iopub.status.idle": "2022-07-15T22:00:30.651955Z",
     "shell.execute_reply": "2022-07-15T22:00:30.651152Z"
    },
    "papermill": {
     "duration": 0.028846,
     "end_time": "2022-07-15T22:00:30.654325",
     "exception": false,
     "start_time": "2022-07-15T22:00:30.625479",
     "status": "completed"
    },
    "tags": []
   },
   "outputs": [],
   "source": [
    "### Dropping columns which are not required, axis = 1 - indicates column-wise drop  \n",
    "df = df.drop(['Contact Number', 'Trip_advisor Url',\n",
    "       'Menu'],axis=1)"
   ]
  },
  {
   "cell_type": "markdown",
   "id": "a165532d",
   "metadata": {
    "papermill": {
     "duration": 0.015778,
     "end_time": "2022-07-15T22:00:30.686297",
     "exception": false,
     "start_time": "2022-07-15T22:00:30.670519",
     "status": "completed"
    },
    "tags": []
   },
   "source": [
    "# Cleaning the Dataset"
   ]
  },
  {
   "cell_type": "markdown",
   "id": "57e8ffad",
   "metadata": {
    "papermill": {
     "duration": 0.015659,
     "end_time": "2022-07-15T22:00:30.717854",
     "exception": false,
     "start_time": "2022-07-15T22:00:30.702195",
     "status": "completed"
    },
    "tags": []
   },
   "source": [
    "## Checking for missing values"
   ]
  },
  {
   "cell_type": "code",
   "execution_count": 5,
   "id": "ef3d4d22",
   "metadata": {
    "execution": {
     "iopub.execute_input": "2022-07-15T22:00:30.751439Z",
     "iopub.status.busy": "2022-07-15T22:00:30.750853Z",
     "iopub.status.idle": "2022-07-15T22:00:30.762361Z",
     "shell.execute_reply": "2022-07-15T22:00:30.761444Z"
    },
    "papermill": {
     "duration": 0.030813,
     "end_time": "2022-07-15T22:00:30.764498",
     "exception": false,
     "start_time": "2022-07-15T22:00:30.733685",
     "status": "completed"
    },
    "tags": []
   },
   "outputs": [
    {
     "data": {
      "text/plain": [
       "Name                0\n",
       "Street Address      0\n",
       "Location            0\n",
       "Type               13\n",
       "Reviews             0\n",
       "No of Reviews       0\n",
       "Comments          615\n",
       "Price_Range         0\n",
       "dtype: int64"
      ]
     },
     "execution_count": 5,
     "metadata": {},
     "output_type": "execute_result"
    }
   ],
   "source": [
    "### Total number of missing Values per columns\n",
    "df.isnull().sum()"
   ]
  },
  {
   "cell_type": "markdown",
   "id": "3d96e8b3",
   "metadata": {
    "papermill": {
     "duration": 0.015902,
     "end_time": "2022-07-15T22:00:30.796943",
     "exception": false,
     "start_time": "2022-07-15T22:00:30.781041",
     "status": "completed"
    },
    "tags": []
   },
   "source": [
    "Comments and Type have visible missing values. Lets check for other subtle such values"
   ]
  },
  {
   "cell_type": "code",
   "execution_count": 6,
   "id": "958d5f86",
   "metadata": {
    "execution": {
     "iopub.execute_input": "2022-07-15T22:00:30.832505Z",
     "iopub.status.busy": "2022-07-15T22:00:30.832040Z",
     "iopub.status.idle": "2022-07-15T22:00:30.860308Z",
     "shell.execute_reply": "2022-07-15T22:00:30.859130Z"
    },
    "papermill": {
     "duration": 0.048561,
     "end_time": "2022-07-15T22:00:30.862885",
     "exception": false,
     "start_time": "2022-07-15T22:00:30.814324",
     "status": "completed"
    },
    "tags": []
   },
   "outputs": [
    {
     "name": "stdout",
     "output_type": "stream",
     "text": [
      "['4.5 of 5 bubbles' '4 of 5 bubbles' '5 of 5 bubbles' '3.5 of 5 bubbles'\n",
      " '3 of 5 bubbles' 'No review']\n"
     ]
    },
    {
     "data": {
      "text/html": [
       "<div>\n",
       "<style scoped>\n",
       "    .dataframe tbody tr th:only-of-type {\n",
       "        vertical-align: middle;\n",
       "    }\n",
       "\n",
       "    .dataframe tbody tr th {\n",
       "        vertical-align: top;\n",
       "    }\n",
       "\n",
       "    .dataframe thead th {\n",
       "        text-align: right;\n",
       "    }\n",
       "</style>\n",
       "<table border=\"1\" class=\"dataframe\">\n",
       "  <thead>\n",
       "    <tr style=\"text-align: right;\">\n",
       "      <th></th>\n",
       "      <th>Name</th>\n",
       "      <th>Street Address</th>\n",
       "      <th>Location</th>\n",
       "      <th>Type</th>\n",
       "      <th>Reviews</th>\n",
       "      <th>No of Reviews</th>\n",
       "      <th>Comments</th>\n",
       "      <th>Price_Range</th>\n",
       "    </tr>\n",
       "  </thead>\n",
       "  <tbody>\n",
       "    <tr>\n",
       "      <th>1744</th>\n",
       "      <td>Wavershak's Deli</td>\n",
       "      <td>1800 Route 9</td>\n",
       "      <td>Toms River, NJ 08755-1284</td>\n",
       "      <td>NaN</td>\n",
       "      <td>No review</td>\n",
       "      <td>Undefined Number</td>\n",
       "      <td>No Comments</td>\n",
       "      <td>Not Specified</td>\n",
       "    </tr>\n",
       "    <tr>\n",
       "      <th>2866</th>\n",
       "      <td>Wavershak's Deli</td>\n",
       "      <td>1800 Route 9</td>\n",
       "      <td>Toms River, NJ 08755-1284</td>\n",
       "      <td>NaN</td>\n",
       "      <td>No review</td>\n",
       "      <td>Undefined Number</td>\n",
       "      <td>No Comments</td>\n",
       "      <td>Not Specified</td>\n",
       "    </tr>\n",
       "  </tbody>\n",
       "</table>\n",
       "</div>"
      ],
      "text/plain": [
       "                  Name Street Address                   Location Type  \\\n",
       "1744  Wavershak's Deli   1800 Route 9  Toms River, NJ 08755-1284  NaN   \n",
       "2866  Wavershak's Deli   1800 Route 9  Toms River, NJ 08755-1284  NaN   \n",
       "\n",
       "        Reviews     No of Reviews     Comments    Price_Range  \n",
       "1744  No review  Undefined Number  No Comments  Not Specified  \n",
       "2866  No review  Undefined Number  No Comments  Not Specified  "
      ]
     },
     "metadata": {},
     "output_type": "display_data"
    },
    {
     "data": {
      "text/html": [
       "<div>\n",
       "<style scoped>\n",
       "    .dataframe tbody tr th:only-of-type {\n",
       "        vertical-align: middle;\n",
       "    }\n",
       "\n",
       "    .dataframe tbody tr th {\n",
       "        vertical-align: top;\n",
       "    }\n",
       "\n",
       "    .dataframe thead th {\n",
       "        text-align: right;\n",
       "    }\n",
       "</style>\n",
       "<table border=\"1\" class=\"dataframe\">\n",
       "  <thead>\n",
       "    <tr style=\"text-align: right;\">\n",
       "      <th></th>\n",
       "      <th>Name</th>\n",
       "      <th>Street Address</th>\n",
       "      <th>Location</th>\n",
       "      <th>Type</th>\n",
       "      <th>Reviews</th>\n",
       "      <th>No of Reviews</th>\n",
       "      <th>Comments</th>\n",
       "      <th>Price_Range</th>\n",
       "    </tr>\n",
       "  </thead>\n",
       "  <tbody>\n",
       "    <tr>\n",
       "      <th>1744</th>\n",
       "      <td>Wavershak's Deli</td>\n",
       "      <td>1800 Route 9</td>\n",
       "      <td>Toms River, NJ 08755-1284</td>\n",
       "      <td>NaN</td>\n",
       "      <td>No review</td>\n",
       "      <td>Undefined Number</td>\n",
       "      <td>No Comments</td>\n",
       "      <td>Not Specified</td>\n",
       "    </tr>\n",
       "    <tr>\n",
       "      <th>2866</th>\n",
       "      <td>Wavershak's Deli</td>\n",
       "      <td>1800 Route 9</td>\n",
       "      <td>Toms River, NJ 08755-1284</td>\n",
       "      <td>NaN</td>\n",
       "      <td>No review</td>\n",
       "      <td>Undefined Number</td>\n",
       "      <td>No Comments</td>\n",
       "      <td>Not Specified</td>\n",
       "    </tr>\n",
       "  </tbody>\n",
       "</table>\n",
       "</div>"
      ],
      "text/plain": [
       "                  Name Street Address                   Location Type  \\\n",
       "1744  Wavershak's Deli   1800 Route 9  Toms River, NJ 08755-1284  NaN   \n",
       "2866  Wavershak's Deli   1800 Route 9  Toms River, NJ 08755-1284  NaN   \n",
       "\n",
       "        Reviews     No of Reviews     Comments    Price_Range  \n",
       "1744  No review  Undefined Number  No Comments  Not Specified  \n",
       "2866  No review  Undefined Number  No Comments  Not Specified  "
      ]
     },
     "metadata": {},
     "output_type": "display_data"
    }
   ],
   "source": [
    "### Check reviews and No of reviews\n",
    "print(df.Reviews.unique())\n",
    "display(df[df.Reviews=='No review'])\n",
    "\n",
    "display(df[df['No of Reviews']=='Undefined Number'])"
   ]
  },
  {
   "cell_type": "markdown",
   "id": "8f272df9",
   "metadata": {
    "papermill": {
     "duration": 0.016573,
     "end_time": "2022-07-15T22:00:30.896470",
     "exception": false,
     "start_time": "2022-07-15T22:00:30.879897",
     "status": "completed"
    },
    "tags": []
   },
   "source": [
    "We can get rid of these two rows safely since we have no other information"
   ]
  },
  {
   "cell_type": "code",
   "execution_count": 7,
   "id": "af91ba55",
   "metadata": {
    "execution": {
     "iopub.execute_input": "2022-07-15T22:00:30.932495Z",
     "iopub.status.busy": "2022-07-15T22:00:30.931956Z",
     "iopub.status.idle": "2022-07-15T22:00:30.947002Z",
     "shell.execute_reply": "2022-07-15T22:00:30.946068Z"
    },
    "papermill": {
     "duration": 0.035518,
     "end_time": "2022-07-15T22:00:30.949120",
     "exception": false,
     "start_time": "2022-07-15T22:00:30.913602",
     "status": "completed"
    },
    "tags": []
   },
   "outputs": [
    {
     "data": {
      "text/html": [
       "<div>\n",
       "<style scoped>\n",
       "    .dataframe tbody tr th:only-of-type {\n",
       "        vertical-align: middle;\n",
       "    }\n",
       "\n",
       "    .dataframe tbody tr th {\n",
       "        vertical-align: top;\n",
       "    }\n",
       "\n",
       "    .dataframe thead th {\n",
       "        text-align: right;\n",
       "    }\n",
       "</style>\n",
       "<table border=\"1\" class=\"dataframe\">\n",
       "  <thead>\n",
       "    <tr style=\"text-align: right;\">\n",
       "      <th></th>\n",
       "      <th>Name</th>\n",
       "      <th>Street Address</th>\n",
       "      <th>Location</th>\n",
       "      <th>Type</th>\n",
       "      <th>Reviews</th>\n",
       "      <th>No of Reviews</th>\n",
       "      <th>Comments</th>\n",
       "      <th>Price_Range</th>\n",
       "    </tr>\n",
       "  </thead>\n",
       "  <tbody>\n",
       "    <tr>\n",
       "      <th>0</th>\n",
       "      <td>Betty Lou's Seafood and Grill</td>\n",
       "      <td>318 Columbus Ave</td>\n",
       "      <td>San Francisco, CA 94133-3908</td>\n",
       "      <td>Seafood, Vegetarian Friendly, Vegan Options</td>\n",
       "      <td>4.5 of 5 bubbles</td>\n",
       "      <td>243 reviews</td>\n",
       "      <td>NaN</td>\n",
       "      <td>$$ - $$$</td>\n",
       "    </tr>\n",
       "    <tr>\n",
       "      <th>1</th>\n",
       "      <td>Coach House Diner</td>\n",
       "      <td>55 State Rt 4</td>\n",
       "      <td>Hackensack, NJ 07601-6337</td>\n",
       "      <td>Diner, American, Vegetarian Friendly</td>\n",
       "      <td>4 of 5 bubbles</td>\n",
       "      <td>84 reviews</td>\n",
       "      <td>Both times we were there very late, after 11 P...</td>\n",
       "      <td>$$ - $$$</td>\n",
       "    </tr>\n",
       "    <tr>\n",
       "      <th>2</th>\n",
       "      <td>Table Talk Diner</td>\n",
       "      <td>2521 South Rd Ste C</td>\n",
       "      <td>Poughkeepsie, NY 12601-5476</td>\n",
       "      <td>American, Diner, Vegetarian Friendly</td>\n",
       "      <td>4 of 5 bubbles</td>\n",
       "      <td>256 reviews</td>\n",
       "      <td>Waitress was very friendly but a little pricey...</td>\n",
       "      <td>$$ - $$$</td>\n",
       "    </tr>\n",
       "    <tr>\n",
       "      <th>3</th>\n",
       "      <td>Sixty Vines</td>\n",
       "      <td>3701 Dallas Pkwy</td>\n",
       "      <td>Plano, TX 75093-7777</td>\n",
       "      <td>American, Wine Bar, Vegetarian Friendly</td>\n",
       "      <td>4.5 of 5 bubbles</td>\n",
       "      <td>235 reviews</td>\n",
       "      <td>Not sure why I went there for the second time....</td>\n",
       "      <td>$$ - $$$</td>\n",
       "    </tr>\n",
       "    <tr>\n",
       "      <th>4</th>\n",
       "      <td>The Clam Bar</td>\n",
       "      <td>3914 Brewerton Rd</td>\n",
       "      <td>Syracuse, NY 13212</td>\n",
       "      <td>American, Bar, Seafood</td>\n",
       "      <td>4 of 5 bubbles</td>\n",
       "      <td>285 reviews</td>\n",
       "      <td>Doesn't look like much from the outside but wa...</td>\n",
       "      <td>$$ - $$$</td>\n",
       "    </tr>\n",
       "    <tr>\n",
       "      <th>...</th>\n",
       "      <td>...</td>\n",
       "      <td>...</td>\n",
       "      <td>...</td>\n",
       "      <td>...</td>\n",
       "      <td>...</td>\n",
       "      <td>...</td>\n",
       "      <td>...</td>\n",
       "      <td>...</td>\n",
       "    </tr>\n",
       "    <tr>\n",
       "      <th>3055</th>\n",
       "      <td>Indigo Kitchen &amp; Ale House</td>\n",
       "      <td>2902 164th St SW</td>\n",
       "      <td>Lynnwood, WA 98087-3201</td>\n",
       "      <td>American, Bar, Vegetarian Friendly</td>\n",
       "      <td>4.5 of 5 bubbles</td>\n",
       "      <td>198 reviews</td>\n",
       "      <td>We had to wait a few minutes to get it but it ...</td>\n",
       "      <td>$$ - $$$</td>\n",
       "    </tr>\n",
       "    <tr>\n",
       "      <th>3056</th>\n",
       "      <td>City Vineyard</td>\n",
       "      <td>233 West Street</td>\n",
       "      <td>New York City, NY 10013</td>\n",
       "      <td>American, Bar, Seafood</td>\n",
       "      <td>4.5 of 5 bubbles</td>\n",
       "      <td>374 reviews</td>\n",
       "      <td>Came here to see Andrea Gibson perform, we wer...</td>\n",
       "      <td>$$ - $$$</td>\n",
       "    </tr>\n",
       "    <tr>\n",
       "      <th>3057</th>\n",
       "      <td>BRIO Tuscan Grille</td>\n",
       "      <td>3710 US Highway 9</td>\n",
       "      <td>Freehold, NJ 07728-4801</td>\n",
       "      <td>Steakhouse, Italian, Bar</td>\n",
       "      <td>4 of 5 bubbles</td>\n",
       "      <td>211 reviews</td>\n",
       "      <td>We come to Brio once a month. They are good fo...</td>\n",
       "      <td>$$ - $$$</td>\n",
       "    </tr>\n",
       "    <tr>\n",
       "      <th>3058</th>\n",
       "      <td>Maywood Pancake house</td>\n",
       "      <td>92 W Pleasant Ave</td>\n",
       "      <td>Maywood, NJ 07607-1336</td>\n",
       "      <td>American, Vegan Options, Gluten Free Options</td>\n",
       "      <td>4 of 5 bubbles</td>\n",
       "      <td>87 reviews</td>\n",
       "      <td>Stopped in yesterday for Breakfast. When in Je...</td>\n",
       "      <td>$$ - $$$</td>\n",
       "    </tr>\n",
       "    <tr>\n",
       "      <th>3059</th>\n",
       "      <td>Porto Leggero</td>\n",
       "      <td>Harborside Financial Center - Plaza 5</td>\n",
       "      <td>Jersey City, NJ 07311</td>\n",
       "      <td>Italian, Vegetarian Friendly, Vegan Options</td>\n",
       "      <td>4.5 of 5 bubbles</td>\n",
       "      <td>183 reviews</td>\n",
       "      <td>First time for dinner. 2 couples. Delicious mu...</td>\n",
       "      <td>$$$$</td>\n",
       "    </tr>\n",
       "  </tbody>\n",
       "</table>\n",
       "<p>3060 rows × 8 columns</p>\n",
       "</div>"
      ],
      "text/plain": [
       "                               Name                         Street Address  \\\n",
       "0     Betty Lou's Seafood and Grill                       318 Columbus Ave   \n",
       "1                 Coach House Diner                          55 State Rt 4   \n",
       "2                  Table Talk Diner                    2521 South Rd Ste C   \n",
       "3                       Sixty Vines                       3701 Dallas Pkwy   \n",
       "4                      The Clam Bar                      3914 Brewerton Rd   \n",
       "...                             ...                                    ...   \n",
       "3055     Indigo Kitchen & Ale House                       2902 164th St SW   \n",
       "3056                  City Vineyard                        233 West Street   \n",
       "3057             BRIO Tuscan Grille                      3710 US Highway 9   \n",
       "3058          Maywood Pancake house                      92 W Pleasant Ave   \n",
       "3059                  Porto Leggero  Harborside Financial Center - Plaza 5   \n",
       "\n",
       "                          Location  \\\n",
       "0     San Francisco, CA 94133-3908   \n",
       "1        Hackensack, NJ 07601-6337   \n",
       "2      Poughkeepsie, NY 12601-5476   \n",
       "3             Plano, TX 75093-7777   \n",
       "4               Syracuse, NY 13212   \n",
       "...                            ...   \n",
       "3055       Lynnwood, WA 98087-3201   \n",
       "3056       New York City, NY 10013   \n",
       "3057       Freehold, NJ 07728-4801   \n",
       "3058        Maywood, NJ 07607-1336   \n",
       "3059         Jersey City, NJ 07311   \n",
       "\n",
       "                                               Type           Reviews  \\\n",
       "0       Seafood, Vegetarian Friendly, Vegan Options  4.5 of 5 bubbles   \n",
       "1              Diner, American, Vegetarian Friendly    4 of 5 bubbles   \n",
       "2              American, Diner, Vegetarian Friendly    4 of 5 bubbles   \n",
       "3           American, Wine Bar, Vegetarian Friendly  4.5 of 5 bubbles   \n",
       "4                            American, Bar, Seafood    4 of 5 bubbles   \n",
       "...                                             ...               ...   \n",
       "3055             American, Bar, Vegetarian Friendly  4.5 of 5 bubbles   \n",
       "3056                         American, Bar, Seafood  4.5 of 5 bubbles   \n",
       "3057                       Steakhouse, Italian, Bar    4 of 5 bubbles   \n",
       "3058   American, Vegan Options, Gluten Free Options    4 of 5 bubbles   \n",
       "3059    Italian, Vegetarian Friendly, Vegan Options  4.5 of 5 bubbles   \n",
       "\n",
       "     No of Reviews                                           Comments  \\\n",
       "0      243 reviews                                                NaN   \n",
       "1       84 reviews  Both times we were there very late, after 11 P...   \n",
       "2      256 reviews  Waitress was very friendly but a little pricey...   \n",
       "3      235 reviews  Not sure why I went there for the second time....   \n",
       "4      285 reviews  Doesn't look like much from the outside but wa...   \n",
       "...            ...                                                ...   \n",
       "3055   198 reviews  We had to wait a few minutes to get it but it ...   \n",
       "3056   374 reviews  Came here to see Andrea Gibson perform, we wer...   \n",
       "3057   211 reviews  We come to Brio once a month. They are good fo...   \n",
       "3058    87 reviews  Stopped in yesterday for Breakfast. When in Je...   \n",
       "3059   183 reviews  First time for dinner. 2 couples. Delicious mu...   \n",
       "\n",
       "     Price_Range  \n",
       "0       $$ - $$$  \n",
       "1       $$ - $$$  \n",
       "2       $$ - $$$  \n",
       "3       $$ - $$$  \n",
       "4       $$ - $$$  \n",
       "...          ...  \n",
       "3055    $$ - $$$  \n",
       "3056    $$ - $$$  \n",
       "3057    $$ - $$$  \n",
       "3058    $$ - $$$  \n",
       "3059        $$$$  \n",
       "\n",
       "[3060 rows x 8 columns]"
      ]
     },
     "execution_count": 7,
     "metadata": {},
     "output_type": "execute_result"
    }
   ],
   "source": [
    "### Drop Rows which are not required and reset index\n",
    "df = df.drop([1744,2866])\n",
    "df = df.reset_index(drop=True)\n",
    "df"
   ]
  },
  {
   "cell_type": "code",
   "execution_count": 8,
   "id": "59d0d74b",
   "metadata": {
    "execution": {
     "iopub.execute_input": "2022-07-15T22:00:30.993701Z",
     "iopub.status.busy": "2022-07-15T22:00:30.993195Z",
     "iopub.status.idle": "2022-07-15T22:00:31.000325Z",
     "shell.execute_reply": "2022-07-15T22:00:30.998526Z"
    },
    "papermill": {
     "duration": 0.032419,
     "end_time": "2022-07-15T22:00:31.003086",
     "exception": false,
     "start_time": "2022-07-15T22:00:30.970667",
     "status": "completed"
    },
    "tags": []
   },
   "outputs": [],
   "source": [
    "### Impute NAN's with empty strings\n",
    "df.Comments = df.Comments.fillna('')"
   ]
  },
  {
   "cell_type": "code",
   "execution_count": 9,
   "id": "46d4eccc",
   "metadata": {
    "execution": {
     "iopub.execute_input": "2022-07-15T22:00:31.041972Z",
     "iopub.status.busy": "2022-07-15T22:00:31.041585Z",
     "iopub.status.idle": "2022-07-15T22:00:31.049206Z",
     "shell.execute_reply": "2022-07-15T22:00:31.048570Z"
    },
    "papermill": {
     "duration": 0.028418,
     "end_time": "2022-07-15T22:00:31.051048",
     "exception": false,
     "start_time": "2022-07-15T22:00:31.022630",
     "status": "completed"
    },
    "tags": []
   },
   "outputs": [],
   "source": [
    "### Impute Type with Mode\n",
    "df.Type = df.Type.fillna(df.Type.value_counts().index[0])"
   ]
  },
  {
   "cell_type": "code",
   "execution_count": 10,
   "id": "07eee695",
   "metadata": {
    "execution": {
     "iopub.execute_input": "2022-07-15T22:00:31.087397Z",
     "iopub.status.busy": "2022-07-15T22:00:31.086471Z",
     "iopub.status.idle": "2022-07-15T22:00:31.095774Z",
     "shell.execute_reply": "2022-07-15T22:00:31.094735Z"
    },
    "papermill": {
     "duration": 0.029244,
     "end_time": "2022-07-15T22:00:31.097582",
     "exception": false,
     "start_time": "2022-07-15T22:00:31.068338",
     "status": "completed"
    },
    "tags": []
   },
   "outputs": [
    {
     "data": {
      "text/plain": [
       "Name              0\n",
       "Street Address    0\n",
       "Location          0\n",
       "Type              0\n",
       "Reviews           0\n",
       "No of Reviews     0\n",
       "Comments          0\n",
       "Price_Range       0\n",
       "dtype: int64"
      ]
     },
     "execution_count": 10,
     "metadata": {},
     "output_type": "execute_result"
    }
   ],
   "source": [
    "df.isnull().sum()"
   ]
  },
  {
   "cell_type": "markdown",
   "id": "ea145057",
   "metadata": {
    "papermill": {
     "duration": 0.016707,
     "end_time": "2022-07-15T22:00:31.131656",
     "exception": false,
     "start_time": "2022-07-15T22:00:31.114949",
     "status": "completed"
    },
    "tags": []
   },
   "source": [
    "# Exploratory Data Analysis\n",
    "Lets gain some insights about our data"
   ]
  },
  {
   "cell_type": "markdown",
   "id": "adfab459",
   "metadata": {
    "papermill": {
     "duration": 0.01668,
     "end_time": "2022-07-15T22:00:31.165072",
     "exception": false,
     "start_time": "2022-07-15T22:00:31.148392",
     "status": "completed"
    },
    "tags": []
   },
   "source": [
    "## A. 10 Most Common Types of Cuisines "
   ]
  },
  {
   "cell_type": "code",
   "execution_count": 11,
   "id": "08606c43",
   "metadata": {
    "execution": {
     "iopub.execute_input": "2022-07-15T22:00:31.201860Z",
     "iopub.status.busy": "2022-07-15T22:00:31.200935Z",
     "iopub.status.idle": "2022-07-15T22:00:31.262193Z",
     "shell.execute_reply": "2022-07-15T22:00:31.261202Z"
    },
    "papermill": {
     "duration": 0.082351,
     "end_time": "2022-07-15T22:00:31.264455",
     "exception": false,
     "start_time": "2022-07-15T22:00:31.182104",
     "status": "completed"
    },
    "tags": []
   },
   "outputs": [],
   "source": [
    "### Creating a list of all possible cuisines per restaurants (Multiple instances to later see popularity)\n",
    "types = []\n",
    "for i in range(len(df)):\n",
    "    if type(df.Type[i]) == str:\n",
    "        types.append(df.Type[i].split(\",\")) \n",
    "flat_list = list(itertools.chain(*types))\n",
    "series = pd.Series(flat_list)"
   ]
  },
  {
   "cell_type": "code",
   "execution_count": 12,
   "id": "deb1ef49",
   "metadata": {
    "execution": {
     "iopub.execute_input": "2022-07-15T22:00:31.300833Z",
     "iopub.status.busy": "2022-07-15T22:00:31.300510Z",
     "iopub.status.idle": "2022-07-15T22:00:31.531864Z",
     "shell.execute_reply": "2022-07-15T22:00:31.531065Z"
    },
    "papermill": {
     "duration": 0.252776,
     "end_time": "2022-07-15T22:00:31.534718",
     "exception": false,
     "start_time": "2022-07-15T22:00:31.281942",
     "status": "completed"
    },
    "tags": []
   },
   "outputs": [
    {
     "data": {
      "image/png": "[encoded data removed]",
      "text/plain": [
       "<Figure size 720x720 with 1 Axes>"
      ]
     },
     "metadata": {},
     "output_type": "display_data"
    }
   ],
   "source": [
    "### Pandas Plot\n",
    "ax = pd.Series(series).value_counts()[:10].plot(kind='pie', shadow=True,  cmap=plt.get_cmap('Spectral'), figsize=(10,10))\n",
    "ax.set_ylabel('Cuisine Types')\n",
    "plot = ax.set_title(\"10 Most Popular Types of Cuisines Served\")"
   ]
  },
  {
   "cell_type": "code",
   "execution_count": 13,
   "id": "c29050a4",
   "metadata": {
    "execution": {
     "iopub.execute_input": "2022-07-15T22:00:31.580801Z",
     "iopub.status.busy": "2022-07-15T22:00:31.580465Z",
     "iopub.status.idle": "2022-07-15T22:00:31.589401Z",
     "shell.execute_reply": "2022-07-15T22:00:31.588876Z"
    },
    "papermill": {
     "duration": 0.034936,
     "end_time": "2022-07-15T22:00:31.592187",
     "exception": false,
     "start_time": "2022-07-15T22:00:31.557251",
     "status": "completed"
    },
    "tags": []
   },
   "outputs": [
    {
     "data": {
      "text/html": [
       "<div>\n",
       "<style scoped>\n",
       "    .dataframe tbody tr th:only-of-type {\n",
       "        vertical-align: middle;\n",
       "    }\n",
       "\n",
       "    .dataframe tbody tr th {\n",
       "        vertical-align: top;\n",
       "    }\n",
       "\n",
       "    .dataframe thead th {\n",
       "        text-align: right;\n",
       "    }\n",
       "</style>\n",
       "<table border=\"1\" class=\"dataframe\">\n",
       "  <thead>\n",
       "    <tr style=\"text-align: right;\">\n",
       "      <th></th>\n",
       "      <th>No of Restuarants Serving</th>\n",
       "    </tr>\n",
       "  </thead>\n",
       "  <tbody>\n",
       "    <tr>\n",
       "      <th>American</th>\n",
       "      <td>1558</td>\n",
       "    </tr>\n",
       "    <tr>\n",
       "      <th>Vegetarian Friendly</th>\n",
       "      <td>1553</td>\n",
       "    </tr>\n",
       "    <tr>\n",
       "      <th>Italian</th>\n",
       "      <td>588</td>\n",
       "    </tr>\n",
       "    <tr>\n",
       "      <th>Bar</th>\n",
       "      <td>561</td>\n",
       "    </tr>\n",
       "    <tr>\n",
       "      <th>Vegan Options</th>\n",
       "      <td>428</td>\n",
       "    </tr>\n",
       "    <tr>\n",
       "      <th>Seafood</th>\n",
       "      <td>305</td>\n",
       "    </tr>\n",
       "    <tr>\n",
       "      <th>Asian</th>\n",
       "      <td>278</td>\n",
       "    </tr>\n",
       "    <tr>\n",
       "      <th>Gluten Free Options</th>\n",
       "      <td>270</td>\n",
       "    </tr>\n",
       "    <tr>\n",
       "      <th>Pizza</th>\n",
       "      <td>254</td>\n",
       "    </tr>\n",
       "    <tr>\n",
       "      <th>Steakhouse</th>\n",
       "      <td>229</td>\n",
       "    </tr>\n",
       "  </tbody>\n",
       "</table>\n",
       "</div>"
      ],
      "text/plain": [
       "                      No of Restuarants Serving\n",
       " American                                  1558\n",
       " Vegetarian Friendly                       1553\n",
       " Italian                                    588\n",
       " Bar                                        561\n",
       " Vegan Options                              428\n",
       " Seafood                                    305\n",
       " Asian                                      278\n",
       " Gluten Free Options                        270\n",
       " Pizza                                      254\n",
       " Steakhouse                                 229"
      ]
     },
     "execution_count": 13,
     "metadata": {},
     "output_type": "execute_result"
    }
   ],
   "source": [
    "### Creating a Dataframe for see the number of resaturants serving these cuisines\n",
    "pd.DataFrame({'No of Restuarants Serving':series.value_counts()}).head(10)"
   ]
  },
  {
   "cell_type": "markdown",
   "id": "34565625",
   "metadata": {
    "papermill": {
     "duration": 0.01812,
     "end_time": "2022-07-15T22:00:31.629038",
     "exception": false,
     "start_time": "2022-07-15T22:00:31.610918",
     "status": "completed"
    },
    "tags": []
   },
   "source": [
    "Hence Most Restaurants offer Cuisines which are **American** and **Vegetrain Friendly** serving in approx. 1500 restaurants followed by **Italian** and so on."
   ]
  },
  {
   "cell_type": "markdown",
   "id": "13fc9458",
   "metadata": {
    "papermill": {
     "duration": 0.019408,
     "end_time": "2022-07-15T22:00:31.667526",
     "exception": false,
     "start_time": "2022-07-15T22:00:31.648118",
     "status": "completed"
    },
    "tags": []
   },
   "source": [
    "## B. Which state has the Most Number of Restaurants?"
   ]
  },
  {
   "cell_type": "code",
   "execution_count": 14,
   "id": "fbd55ad0",
   "metadata": {
    "execution": {
     "iopub.execute_input": "2022-07-15T22:00:31.707248Z",
     "iopub.status.busy": "2022-07-15T22:00:31.706177Z",
     "iopub.status.idle": "2022-07-15T22:00:31.738192Z",
     "shell.execute_reply": "2022-07-15T22:00:31.737224Z"
    },
    "papermill": {
     "duration": 0.053707,
     "end_time": "2022-07-15T22:00:31.739869",
     "exception": false,
     "start_time": "2022-07-15T22:00:31.686162",
     "status": "completed"
    },
    "tags": []
   },
   "outputs": [
    {
     "data": {
      "text/html": [
       "<div>\n",
       "<style scoped>\n",
       "    .dataframe tbody tr th:only-of-type {\n",
       "        vertical-align: middle;\n",
       "    }\n",
       "\n",
       "    .dataframe tbody tr th {\n",
       "        vertical-align: top;\n",
       "    }\n",
       "\n",
       "    .dataframe thead th {\n",
       "        text-align: right;\n",
       "    }\n",
       "</style>\n",
       "<table border=\"1\" class=\"dataframe\">\n",
       "  <thead>\n",
       "    <tr style=\"text-align: right;\">\n",
       "      <th></th>\n",
       "      <th>Name</th>\n",
       "      <th>Street Address</th>\n",
       "      <th>Type</th>\n",
       "      <th>Reviews</th>\n",
       "      <th>No of Reviews</th>\n",
       "      <th>Comments</th>\n",
       "      <th>Price_Range</th>\n",
       "      <th>State</th>\n",
       "      <th>ZipCode</th>\n",
       "      <th>City</th>\n",
       "    </tr>\n",
       "  </thead>\n",
       "  <tbody>\n",
       "    <tr>\n",
       "      <th>0</th>\n",
       "      <td>Betty Lou's Seafood and Grill</td>\n",
       "      <td>318 Columbus Ave</td>\n",
       "      <td>Seafood, Vegetarian Friendly, Vegan Options</td>\n",
       "      <td>4.5 of 5 bubbles</td>\n",
       "      <td>243 reviews</td>\n",
       "      <td></td>\n",
       "      <td>$$ - $$$</td>\n",
       "      <td>CA</td>\n",
       "      <td>94133-3908</td>\n",
       "      <td>San Francisco</td>\n",
       "    </tr>\n",
       "    <tr>\n",
       "      <th>1</th>\n",
       "      <td>Coach House Diner</td>\n",
       "      <td>55 State Rt 4</td>\n",
       "      <td>Diner, American, Vegetarian Friendly</td>\n",
       "      <td>4 of 5 bubbles</td>\n",
       "      <td>84 reviews</td>\n",
       "      <td>Both times we were there very late, after 11 P...</td>\n",
       "      <td>$$ - $$$</td>\n",
       "      <td>NJ</td>\n",
       "      <td>07601-6337</td>\n",
       "      <td>Hackensack</td>\n",
       "    </tr>\n",
       "    <tr>\n",
       "      <th>2</th>\n",
       "      <td>Table Talk Diner</td>\n",
       "      <td>2521 South Rd Ste C</td>\n",
       "      <td>American, Diner, Vegetarian Friendly</td>\n",
       "      <td>4 of 5 bubbles</td>\n",
       "      <td>256 reviews</td>\n",
       "      <td>Waitress was very friendly but a little pricey...</td>\n",
       "      <td>$$ - $$$</td>\n",
       "      <td>NY</td>\n",
       "      <td>12601-5476</td>\n",
       "      <td>Poughkeepsie</td>\n",
       "    </tr>\n",
       "    <tr>\n",
       "      <th>3</th>\n",
       "      <td>Sixty Vines</td>\n",
       "      <td>3701 Dallas Pkwy</td>\n",
       "      <td>American, Wine Bar, Vegetarian Friendly</td>\n",
       "      <td>4.5 of 5 bubbles</td>\n",
       "      <td>235 reviews</td>\n",
       "      <td>Not sure why I went there for the second time....</td>\n",
       "      <td>$$ - $$$</td>\n",
       "      <td>TX</td>\n",
       "      <td>75093-7777</td>\n",
       "      <td>Plano</td>\n",
       "    </tr>\n",
       "    <tr>\n",
       "      <th>4</th>\n",
       "      <td>The Clam Bar</td>\n",
       "      <td>3914 Brewerton Rd</td>\n",
       "      <td>American, Bar, Seafood</td>\n",
       "      <td>4 of 5 bubbles</td>\n",
       "      <td>285 reviews</td>\n",
       "      <td>Doesn't look like much from the outside but wa...</td>\n",
       "      <td>$$ - $$$</td>\n",
       "      <td>NY</td>\n",
       "      <td>13212</td>\n",
       "      <td>Syracuse</td>\n",
       "    </tr>\n",
       "    <tr>\n",
       "      <th>...</th>\n",
       "      <td>...</td>\n",
       "      <td>...</td>\n",
       "      <td>...</td>\n",
       "      <td>...</td>\n",
       "      <td>...</td>\n",
       "      <td>...</td>\n",
       "      <td>...</td>\n",
       "      <td>...</td>\n",
       "      <td>...</td>\n",
       "      <td>...</td>\n",
       "    </tr>\n",
       "    <tr>\n",
       "      <th>3055</th>\n",
       "      <td>Indigo Kitchen &amp; Ale House</td>\n",
       "      <td>2902 164th St SW</td>\n",
       "      <td>American, Bar, Vegetarian Friendly</td>\n",
       "      <td>4.5 of 5 bubbles</td>\n",
       "      <td>198 reviews</td>\n",
       "      <td>We had to wait a few minutes to get it but it ...</td>\n",
       "      <td>$$ - $$$</td>\n",
       "      <td>WA</td>\n",
       "      <td>98087-3201</td>\n",
       "      <td>Lynnwood</td>\n",
       "    </tr>\n",
       "    <tr>\n",
       "      <th>3056</th>\n",
       "      <td>City Vineyard</td>\n",
       "      <td>233 West Street</td>\n",
       "      <td>American, Bar, Seafood</td>\n",
       "      <td>4.5 of 5 bubbles</td>\n",
       "      <td>374 reviews</td>\n",
       "      <td>Came here to see Andrea Gibson perform, we wer...</td>\n",
       "      <td>$$ - $$$</td>\n",
       "      <td>NY</td>\n",
       "      <td>10013</td>\n",
       "      <td>New York City</td>\n",
       "    </tr>\n",
       "    <tr>\n",
       "      <th>3057</th>\n",
       "      <td>BRIO Tuscan Grille</td>\n",
       "      <td>3710 US Highway 9</td>\n",
       "      <td>Steakhouse, Italian, Bar</td>\n",
       "      <td>4 of 5 bubbles</td>\n",
       "      <td>211 reviews</td>\n",
       "      <td>We come to Brio once a month. They are good fo...</td>\n",
       "      <td>$$ - $$$</td>\n",
       "      <td>NJ</td>\n",
       "      <td>07728-4801</td>\n",
       "      <td>Freehold</td>\n",
       "    </tr>\n",
       "    <tr>\n",
       "      <th>3058</th>\n",
       "      <td>Maywood Pancake house</td>\n",
       "      <td>92 W Pleasant Ave</td>\n",
       "      <td>American, Vegan Options, Gluten Free Options</td>\n",
       "      <td>4 of 5 bubbles</td>\n",
       "      <td>87 reviews</td>\n",
       "      <td>Stopped in yesterday for Breakfast. When in Je...</td>\n",
       "      <td>$$ - $$$</td>\n",
       "      <td>NJ</td>\n",
       "      <td>07607-1336</td>\n",
       "      <td>Maywood</td>\n",
       "    </tr>\n",
       "    <tr>\n",
       "      <th>3059</th>\n",
       "      <td>Porto Leggero</td>\n",
       "      <td>Harborside Financial Center - Plaza 5</td>\n",
       "      <td>Italian, Vegetarian Friendly, Vegan Options</td>\n",
       "      <td>4.5 of 5 bubbles</td>\n",
       "      <td>183 reviews</td>\n",
       "      <td>First time for dinner. 2 couples. Delicious mu...</td>\n",
       "      <td>$$$$</td>\n",
       "      <td>NJ</td>\n",
       "      <td>07311</td>\n",
       "      <td>Jersey City</td>\n",
       "    </tr>\n",
       "  </tbody>\n",
       "</table>\n",
       "<p>3060 rows × 10 columns</p>\n",
       "</div>"
      ],
      "text/plain": [
       "                               Name                         Street Address  \\\n",
       "0     Betty Lou's Seafood and Grill                       318 Columbus Ave   \n",
       "1                 Coach House Diner                          55 State Rt 4   \n",
       "2                  Table Talk Diner                    2521 South Rd Ste C   \n",
       "3                       Sixty Vines                       3701 Dallas Pkwy   \n",
       "4                      The Clam Bar                      3914 Brewerton Rd   \n",
       "...                             ...                                    ...   \n",
       "3055     Indigo Kitchen & Ale House                       2902 164th St SW   \n",
       "3056                  City Vineyard                        233 West Street   \n",
       "3057             BRIO Tuscan Grille                      3710 US Highway 9   \n",
       "3058          Maywood Pancake house                      92 W Pleasant Ave   \n",
       "3059                  Porto Leggero  Harborside Financial Center - Plaza 5   \n",
       "\n",
       "                                               Type           Reviews  \\\n",
       "0       Seafood, Vegetarian Friendly, Vegan Options  4.5 of 5 bubbles   \n",
       "1              Diner, American, Vegetarian Friendly    4 of 5 bubbles   \n",
       "2              American, Diner, Vegetarian Friendly    4 of 5 bubbles   \n",
       "3           American, Wine Bar, Vegetarian Friendly  4.5 of 5 bubbles   \n",
       "4                            American, Bar, Seafood    4 of 5 bubbles   \n",
       "...                                             ...               ...   \n",
       "3055             American, Bar, Vegetarian Friendly  4.5 of 5 bubbles   \n",
       "3056                         American, Bar, Seafood  4.5 of 5 bubbles   \n",
       "3057                       Steakhouse, Italian, Bar    4 of 5 bubbles   \n",
       "3058   American, Vegan Options, Gluten Free Options    4 of 5 bubbles   \n",
       "3059    Italian, Vegetarian Friendly, Vegan Options  4.5 of 5 bubbles   \n",
       "\n",
       "     No of Reviews                                           Comments  \\\n",
       "0      243 reviews                                                      \n",
       "1       84 reviews  Both times we were there very late, after 11 P...   \n",
       "2      256 reviews  Waitress was very friendly but a little pricey...   \n",
       "3      235 reviews  Not sure why I went there for the second time....   \n",
       "4      285 reviews  Doesn't look like much from the outside but wa...   \n",
       "...            ...                                                ...   \n",
       "3055   198 reviews  We had to wait a few minutes to get it but it ...   \n",
       "3056   374 reviews  Came here to see Andrea Gibson perform, we wer...   \n",
       "3057   211 reviews  We come to Brio once a month. They are good fo...   \n",
       "3058    87 reviews  Stopped in yesterday for Breakfast. When in Je...   \n",
       "3059   183 reviews  First time for dinner. 2 couples. Delicious mu...   \n",
       "\n",
       "     Price_Range State     ZipCode           City  \n",
       "0       $$ - $$$    CA  94133-3908  San Francisco  \n",
       "1       $$ - $$$    NJ  07601-6337     Hackensack  \n",
       "2       $$ - $$$    NY  12601-5476   Poughkeepsie  \n",
       "3       $$ - $$$    TX  75093-7777          Plano  \n",
       "4       $$ - $$$    NY       13212       Syracuse  \n",
       "...          ...   ...         ...            ...  \n",
       "3055    $$ - $$$    WA  98087-3201       Lynnwood  \n",
       "3056    $$ - $$$    NY       10013  New York City  \n",
       "3057    $$ - $$$    NJ  07728-4801       Freehold  \n",
       "3058    $$ - $$$    NJ  07607-1336        Maywood  \n",
       "3059        $$$$    NJ       07311    Jersey City  \n",
       "\n",
       "[3060 rows x 10 columns]"
      ]
     },
     "execution_count": 14,
     "metadata": {},
     "output_type": "execute_result"
    }
   ],
   "source": [
    "### Seperating State, City and Zip Code from Location Column\n",
    "df['State'] = [i.split(\",\")[-1].split(\" \")[1] for i in df.Location]\n",
    "df['ZipCode'] = [i.split(\",\")[-1].split(\" \")[-1] for i in df.Location]\n",
    "df['City'] = [\",\".join(i.split(\",\")[:-1]) for i in df.Location]\n",
    "df = df.drop(['Location'],axis=1)\n",
    "df"
   ]
  },
  {
   "cell_type": "code",
   "execution_count": 15,
   "id": "e5649f72",
   "metadata": {
    "execution": {
     "iopub.execute_input": "2022-07-15T22:00:31.765734Z",
     "iopub.status.busy": "2022-07-15T22:00:31.765120Z",
     "iopub.status.idle": "2022-07-15T22:00:31.776006Z",
     "shell.execute_reply": "2022-07-15T22:00:31.775167Z"
    },
    "papermill": {
     "duration": 0.025939,
     "end_time": "2022-07-15T22:00:31.777665",
     "exception": false,
     "start_time": "2022-07-15T22:00:31.751726",
     "status": "completed"
    },
    "tags": []
   },
   "outputs": [
    {
     "data": {
      "text/plain": [
       "NY    650\n",
       "CA    615\n",
       "TX    614\n",
       "WA    606\n",
       "NJ    563\n",
       "PA      9\n",
       "OR      2\n",
       "Name: State, dtype: int64"
      ]
     },
     "execution_count": 15,
     "metadata": {},
     "output_type": "execute_result"
    }
   ],
   "source": [
    "df = df.drop(df[df.State==''].index[0])\n",
    "df.State.value_counts()"
   ]
  },
  {
   "cell_type": "code",
   "execution_count": 16,
   "id": "f2f63b77",
   "metadata": {
    "execution": {
     "iopub.execute_input": "2022-07-15T22:00:31.804137Z",
     "iopub.status.busy": "2022-07-15T22:00:31.803573Z",
     "iopub.status.idle": "2022-07-15T22:00:31.972937Z",
     "shell.execute_reply": "2022-07-15T22:00:31.971840Z"
    },
    "papermill": {
     "duration": 0.184851,
     "end_time": "2022-07-15T22:00:31.974898",
     "exception": false,
     "start_time": "2022-07-15T22:00:31.790047",
     "status": "completed"
    },
    "tags": []
   },
   "outputs": [
    {
     "data": {
      "image/png": "[encoded data removed]",
      "text/plain": [
       "<Figure size 720x360 with 1 Axes>"
      ]
     },
     "metadata": {
      "needs_background": "light"
     },
     "output_type": "display_data"
    }
   ],
   "source": [
    "ax = df.State.value_counts().plot(kind=\"bar\", color=\"Purple\",  figsize=(10,5))\n",
    "\n",
    "ax.set_ylabel('No of Restaurants')\n",
    "ax.set_xlabel('State')\n",
    "plot = ax.set_title(\"No of Restaurants per State\")"
   ]
  },
  {
   "cell_type": "code",
   "execution_count": 17,
   "id": "d441d373",
   "metadata": {
    "execution": {
     "iopub.execute_input": "2022-07-15T22:00:32.001794Z",
     "iopub.status.busy": "2022-07-15T22:00:32.001200Z",
     "iopub.status.idle": "2022-07-15T22:00:32.011663Z",
     "shell.execute_reply": "2022-07-15T22:00:32.010911Z"
    },
    "papermill": {
     "duration": 0.026016,
     "end_time": "2022-07-15T22:00:32.013270",
     "exception": false,
     "start_time": "2022-07-15T22:00:31.987254",
     "status": "completed"
    },
    "tags": []
   },
   "outputs": [
    {
     "data": {
      "text/html": [
       "<div>\n",
       "<style scoped>\n",
       "    .dataframe tbody tr th:only-of-type {\n",
       "        vertical-align: middle;\n",
       "    }\n",
       "\n",
       "    .dataframe tbody tr th {\n",
       "        vertical-align: top;\n",
       "    }\n",
       "\n",
       "    .dataframe thead th {\n",
       "        text-align: right;\n",
       "    }\n",
       "</style>\n",
       "<table border=\"1\" class=\"dataframe\">\n",
       "  <thead>\n",
       "    <tr style=\"text-align: right;\">\n",
       "      <th></th>\n",
       "      <th>No of Restuarants per State</th>\n",
       "    </tr>\n",
       "  </thead>\n",
       "  <tbody>\n",
       "    <tr>\n",
       "      <th>NY</th>\n",
       "      <td>650</td>\n",
       "    </tr>\n",
       "    <tr>\n",
       "      <th>CA</th>\n",
       "      <td>615</td>\n",
       "    </tr>\n",
       "    <tr>\n",
       "      <th>TX</th>\n",
       "      <td>614</td>\n",
       "    </tr>\n",
       "    <tr>\n",
       "      <th>WA</th>\n",
       "      <td>606</td>\n",
       "    </tr>\n",
       "    <tr>\n",
       "      <th>NJ</th>\n",
       "      <td>563</td>\n",
       "    </tr>\n",
       "    <tr>\n",
       "      <th>PA</th>\n",
       "      <td>9</td>\n",
       "    </tr>\n",
       "    <tr>\n",
       "      <th>OR</th>\n",
       "      <td>2</td>\n",
       "    </tr>\n",
       "  </tbody>\n",
       "</table>\n",
       "</div>"
      ],
      "text/plain": [
       "    No of Restuarants per State\n",
       "NY                          650\n",
       "CA                          615\n",
       "TX                          614\n",
       "WA                          606\n",
       "NJ                          563\n",
       "PA                            9\n",
       "OR                            2"
      ]
     },
     "execution_count": 17,
     "metadata": {},
     "output_type": "execute_result"
    }
   ],
   "source": [
    "pd.DataFrame({'No of Restuarants per State':df.State.value_counts()}).head(10)"
   ]
  },
  {
   "cell_type": "markdown",
   "id": "f8166b31",
   "metadata": {
    "papermill": {
     "duration": 0.012061,
     "end_time": "2022-07-15T22:00:32.038088",
     "exception": false,
     "start_time": "2022-07-15T22:00:32.026027",
     "status": "completed"
    },
    "tags": []
   },
   "source": [
    "Most Number of Restaurants are in **New York** followed by **California**"
   ]
  },
  {
   "cell_type": "markdown",
   "id": "1f1dd927",
   "metadata": {
    "papermill": {
     "duration": 0.012339,
     "end_time": "2022-07-15T22:00:32.062804",
     "exception": false,
     "start_time": "2022-07-15T22:00:32.050465",
     "status": "completed"
    },
    "tags": []
   },
   "source": [
    "## C.  Ranking the best (most highly rated) restaurants from each state"
   ]
  },
  {
   "cell_type": "markdown",
   "id": "169cba39",
   "metadata": {
    "papermill": {
     "duration": 0.011905,
     "end_time": "2022-07-15T22:00:32.087415",
     "exception": false,
     "start_time": "2022-07-15T22:00:32.075510",
     "status": "completed"
    },
    "tags": []
   },
   "source": [
    "#### Now most highly rated restaurant has to include two factors: -\n",
    "- Number of people who reviewed\n",
    "- Review Ratings on 5\n",
    "\n"
   ]
  },
  {
   "cell_type": "code",
   "execution_count": 18,
   "id": "280d03e7",
   "metadata": {
    "execution": {
     "iopub.execute_input": "2022-07-15T22:00:32.114281Z",
     "iopub.status.busy": "2022-07-15T22:00:32.113727Z",
     "iopub.status.idle": "2022-07-15T22:00:32.127987Z",
     "shell.execute_reply": "2022-07-15T22:00:32.126997Z"
    },
    "papermill": {
     "duration": 0.030132,
     "end_time": "2022-07-15T22:00:32.129997",
     "exception": false,
     "start_time": "2022-07-15T22:00:32.099865",
     "status": "completed"
    },
    "tags": []
   },
   "outputs": [],
   "source": [
    "### Converting the string values to float/int values\n",
    "df['Reviews'] = [float(i.split(\" \")[0]) for i in df.Reviews]\n",
    "df['No of Reviews'] = [int(i.split(\" \")[0].replace(\",\",\"\")) for i in df['No of Reviews']]"
   ]
  },
  {
   "cell_type": "code",
   "execution_count": 19,
   "id": "f17b6f01",
   "metadata": {
    "execution": {
     "iopub.execute_input": "2022-07-15T22:00:32.157883Z",
     "iopub.status.busy": "2022-07-15T22:00:32.157429Z",
     "iopub.status.idle": "2022-07-15T22:00:32.163210Z",
     "shell.execute_reply": "2022-07-15T22:00:32.162113Z"
    },
    "papermill": {
     "duration": 0.022466,
     "end_time": "2022-07-15T22:00:32.164989",
     "exception": false,
     "start_time": "2022-07-15T22:00:32.142523",
     "status": "completed"
    },
    "tags": []
   },
   "outputs": [],
   "source": [
    "### Weighted Ratings - No of Reviewers * Average Ratings\n",
    "df['weighted_ratings'] = df.Reviews*df['No of Reviews']"
   ]
  },
  {
   "cell_type": "code",
   "execution_count": 20,
   "id": "c7c12261",
   "metadata": {
    "execution": {
     "iopub.execute_input": "2022-07-15T22:00:32.192350Z",
     "iopub.status.busy": "2022-07-15T22:00:32.191097Z",
     "iopub.status.idle": "2022-07-15T22:00:32.200234Z",
     "shell.execute_reply": "2022-07-15T22:00:32.199527Z"
    },
    "papermill": {
     "duration": 0.024591,
     "end_time": "2022-07-15T22:00:32.202181",
     "exception": false,
     "start_time": "2022-07-15T22:00:32.177590",
     "status": "completed"
    },
    "tags": []
   },
   "outputs": [
    {
     "data": {
      "text/plain": [
       "0       1093.5\n",
       "1        336.0\n",
       "2       1024.0\n",
       "3       1057.5\n",
       "4       1140.0\n",
       "         ...  \n",
       "3055     891.0\n",
       "3056    1683.0\n",
       "3057     844.0\n",
       "3058     348.0\n",
       "3059     823.5\n",
       "Name: weighted_ratings, Length: 3059, dtype: float64"
      ]
     },
     "execution_count": 20,
     "metadata": {},
     "output_type": "execute_result"
    }
   ],
   "source": [
    "df.weighted_ratings"
   ]
  },
  {
   "cell_type": "code",
   "execution_count": 21,
   "id": "7f74ed81",
   "metadata": {
    "execution": {
     "iopub.execute_input": "2022-07-15T22:00:32.229159Z",
     "iopub.status.busy": "2022-07-15T22:00:32.228145Z",
     "iopub.status.idle": "2022-07-15T22:00:32.425953Z",
     "shell.execute_reply": "2022-07-15T22:00:32.425002Z"
    },
    "papermill": {
     "duration": 0.212849,
     "end_time": "2022-07-15T22:00:32.427700",
     "exception": false,
     "start_time": "2022-07-15T22:00:32.214851",
     "status": "completed"
    },
    "tags": []
   },
   "outputs": [
    {
     "data": {
      "image/png": "[encoded data removed]",
      "text/plain": [
       "<Figure size 648x432 with 1 Axes>"
      ]
     },
     "metadata": {
      "needs_background": "light"
     },
     "output_type": "display_data"
    }
   ],
   "source": [
    "labels = df.State.unique().flatten()\n",
    "average_vote_share_list = [df[df.State==i].weighted_ratings.max() for i in labels]\n",
    "avg_wt_ratings = pd.DataFrame({'State':labels, 'Weighted Average Ratings': average_vote_share_list})\n",
    "plot = sns.catplot(x='State', y=\"Weighted Average Ratings\", kind=\"bar\", data=avg_wt_ratings, palette=\"rocket\")\n",
    "plt.title(\"Best Restaurant among all States\")\n",
    "plt.gcf().set_size_inches(9, 6)"
   ]
  },
  {
   "cell_type": "code",
   "execution_count": 22,
   "id": "eee0f397",
   "metadata": {
    "execution": {
     "iopub.execute_input": "2022-07-15T22:00:32.455493Z",
     "iopub.status.busy": "2022-07-15T22:00:32.454571Z",
     "iopub.status.idle": "2022-07-15T22:00:32.470865Z",
     "shell.execute_reply": "2022-07-15T22:00:32.469592Z"
    },
    "papermill": {
     "duration": 0.031864,
     "end_time": "2022-07-15T22:00:32.472493",
     "exception": false,
     "start_time": "2022-07-15T22:00:32.440629",
     "status": "completed"
    },
    "tags": []
   },
   "outputs": [
    {
     "data": {
      "text/html": [
       "<div>\n",
       "<style scoped>\n",
       "    .dataframe tbody tr th:only-of-type {\n",
       "        vertical-align: middle;\n",
       "    }\n",
       "\n",
       "    .dataframe tbody tr th {\n",
       "        vertical-align: top;\n",
       "    }\n",
       "\n",
       "    .dataframe thead th {\n",
       "        text-align: right;\n",
       "    }\n",
       "</style>\n",
       "<table border=\"1\" class=\"dataframe\">\n",
       "  <thead>\n",
       "    <tr style=\"text-align: right;\">\n",
       "      <th></th>\n",
       "      <th>Name</th>\n",
       "      <th>Street Address</th>\n",
       "      <th>Type</th>\n",
       "      <th>Reviews</th>\n",
       "      <th>No of Reviews</th>\n",
       "      <th>Comments</th>\n",
       "      <th>Price_Range</th>\n",
       "      <th>State</th>\n",
       "      <th>ZipCode</th>\n",
       "      <th>City</th>\n",
       "      <th>weighted_ratings</th>\n",
       "    </tr>\n",
       "  </thead>\n",
       "  <tbody>\n",
       "    <tr>\n",
       "      <th>2164</th>\n",
       "      <td>Big Texan Steak Ranch</td>\n",
       "      <td>7701 E Interstate 40</td>\n",
       "      <td>American, Steakhouse, Southwestern</td>\n",
       "      <td>4.0</td>\n",
       "      <td>5448</td>\n",
       "      <td>Roquefort dressing homemade and delicious. I h...</td>\n",
       "      <td>$$ - $$$</td>\n",
       "      <td>TX</td>\n",
       "      <td>79118-6915</td>\n",
       "      <td>Amarillo</td>\n",
       "      <td>21792.0</td>\n",
       "    </tr>\n",
       "  </tbody>\n",
       "</table>\n",
       "</div>"
      ],
      "text/plain": [
       "                       Name        Street Address  \\\n",
       "2164  Big Texan Steak Ranch  7701 E Interstate 40   \n",
       "\n",
       "                                     Type  Reviews  No of Reviews  \\\n",
       "2164   American, Steakhouse, Southwestern      4.0           5448   \n",
       "\n",
       "                                               Comments Price_Range State  \\\n",
       "2164  Roquefort dressing homemade and delicious. I h...    $$ - $$$    TX   \n",
       "\n",
       "         ZipCode      City  weighted_ratings  \n",
       "2164  79118-6915  Amarillo           21792.0  "
      ]
     },
     "execution_count": 22,
     "metadata": {},
     "output_type": "execute_result"
    }
   ],
   "source": [
    "df[df.weighted_ratings==df.weighted_ratings.max()]"
   ]
  },
  {
   "cell_type": "markdown",
   "id": "54c445c5",
   "metadata": {
    "papermill": {
     "duration": 0.01251,
     "end_time": "2022-07-15T22:00:32.498694",
     "exception": false,
     "start_time": "2022-07-15T22:00:32.486184",
     "status": "completed"
    },
    "tags": []
   },
   "source": [
    "Now **Texas's** Big Texan Steak Ranch is the best among all states. Lets figure out the reason. As we have discussed before no of reviewers play an important role in the restaurants success along side the ratings."
   ]
  },
  {
   "cell_type": "code",
   "execution_count": 23,
   "id": "c03b27b7",
   "metadata": {
    "execution": {
     "iopub.execute_input": "2022-07-15T22:00:32.526282Z",
     "iopub.status.busy": "2022-07-15T22:00:32.525634Z",
     "iopub.status.idle": "2022-07-15T22:00:32.542410Z",
     "shell.execute_reply": "2022-07-15T22:00:32.541576Z"
    },
    "papermill": {
     "duration": 0.032633,
     "end_time": "2022-07-15T22:00:32.544158",
     "exception": false,
     "start_time": "2022-07-15T22:00:32.511525",
     "status": "completed"
    },
    "tags": []
   },
   "outputs": [
    {
     "data": {
      "text/html": [
       "<div>\n",
       "<style scoped>\n",
       "    .dataframe tbody tr th:only-of-type {\n",
       "        vertical-align: middle;\n",
       "    }\n",
       "\n",
       "    .dataframe tbody tr th {\n",
       "        vertical-align: top;\n",
       "    }\n",
       "\n",
       "    .dataframe thead th {\n",
       "        text-align: right;\n",
       "    }\n",
       "</style>\n",
       "<table border=\"1\" class=\"dataframe\">\n",
       "  <thead>\n",
       "    <tr style=\"text-align: right;\">\n",
       "      <th></th>\n",
       "      <th>Name</th>\n",
       "      <th>Street Address</th>\n",
       "      <th>Type</th>\n",
       "      <th>Reviews</th>\n",
       "      <th>No of Reviews</th>\n",
       "      <th>Comments</th>\n",
       "      <th>Price_Range</th>\n",
       "      <th>State</th>\n",
       "      <th>ZipCode</th>\n",
       "      <th>City</th>\n",
       "      <th>weighted_ratings</th>\n",
       "    </tr>\n",
       "  </thead>\n",
       "  <tbody>\n",
       "    <tr>\n",
       "      <th>2164</th>\n",
       "      <td>Big Texan Steak Ranch</td>\n",
       "      <td>7701 E Interstate 40</td>\n",
       "      <td>American, Steakhouse, Southwestern</td>\n",
       "      <td>4.0</td>\n",
       "      <td>5448</td>\n",
       "      <td>Roquefort dressing homemade and delicious. I h...</td>\n",
       "      <td>$$ - $$$</td>\n",
       "      <td>TX</td>\n",
       "      <td>79118-6915</td>\n",
       "      <td>Amarillo</td>\n",
       "      <td>21792.0</td>\n",
       "    </tr>\n",
       "  </tbody>\n",
       "</table>\n",
       "</div>"
      ],
      "text/plain": [
       "                       Name        Street Address  \\\n",
       "2164  Big Texan Steak Ranch  7701 E Interstate 40   \n",
       "\n",
       "                                     Type  Reviews  No of Reviews  \\\n",
       "2164   American, Steakhouse, Southwestern      4.0           5448   \n",
       "\n",
       "                                               Comments Price_Range State  \\\n",
       "2164  Roquefort dressing homemade and delicious. I h...    $$ - $$$    TX   \n",
       "\n",
       "         ZipCode      City  weighted_ratings  \n",
       "2164  79118-6915  Amarillo           21792.0  "
      ]
     },
     "execution_count": 23,
     "metadata": {},
     "output_type": "execute_result"
    }
   ],
   "source": [
    "df[df['No of Reviews'] == df['No of Reviews'].max()]"
   ]
  },
  {
   "cell_type": "markdown",
   "id": "cc4704fb",
   "metadata": {
    "papermill": {
     "duration": 0.01278,
     "end_time": "2022-07-15T22:00:32.570165",
     "exception": false,
     "start_time": "2022-07-15T22:00:32.557385",
     "status": "completed"
    },
    "tags": []
   },
   "source": [
    "Big Texan Steak Ranch does have the **most no of people** who have rated giving it a good average rating of about 4.0. This results in it being the best restaurant in all the above states"
   ]
  },
  {
   "cell_type": "markdown",
   "id": "fb08685b",
   "metadata": {
    "papermill": {
     "duration": 0.012954,
     "end_time": "2022-07-15T22:00:32.596086",
     "exception": false,
     "start_time": "2022-07-15T22:00:32.583132",
     "status": "completed"
    },
    "tags": []
   },
   "source": [
    "## D.  Best State for Food?\n",
    "(Based on Weighted Ratings)\n",
    "\n",
    "- Weighted Ratings - No of Reviewers * Average Ratings.\n",
    "- Meaning 500 people giving an average rating of 4.0 is much more influential than 200 people giving an average rating of 4.5 \n",
    "- Another Factor that would influence would be the number of restaurants. Each Restaurant will have its own set of reviewers and ratings.\n",
    "\n",
    "- Hence to get a good overall picture adding all the weighted ratings by the state and comparing them is still a better picture "
   ]
  },
  {
   "cell_type": "code",
   "execution_count": 24,
   "id": "eb91d510",
   "metadata": {
    "execution": {
     "iopub.execute_input": "2022-07-15T22:00:32.624445Z",
     "iopub.status.busy": "2022-07-15T22:00:32.623806Z",
     "iopub.status.idle": "2022-07-15T22:00:32.865562Z",
     "shell.execute_reply": "2022-07-15T22:00:32.864837Z"
    },
    "papermill": {
     "duration": 0.258462,
     "end_time": "2022-07-15T22:00:32.867603",
     "exception": false,
     "start_time": "2022-07-15T22:00:32.609141",
     "status": "completed"
    },
    "tags": []
   },
   "outputs": [
    {
     "data": {
      "image/png": "[encoded data removed]",
      "text/plain": [
       "<Figure size 648x432 with 1 Axes>"
      ]
     },
     "metadata": {
      "needs_background": "light"
     },
     "output_type": "display_data"
    }
   ],
   "source": [
    "labels = df.State.unique().flatten()\n",
    "total_vote_share_list = [df[df.State==i].weighted_ratings.sum() for i in labels]\n",
    "total_wt_ratings = pd.DataFrame({'State':labels, 'Total Weighted Ratings': total_vote_share_list})\n",
    "plot = sns.catplot(x='State', y=\"Total Weighted Ratings\", kind=\"bar\", data=total_wt_ratings, palette=\"husl\")\n",
    "plt.title(\"Best State For Food\")\n",
    "plt.gcf().set_size_inches(9, 6)"
   ]
  },
  {
   "cell_type": "markdown",
   "id": "d04cb867",
   "metadata": {
    "papermill": {
     "duration": 0.012978,
     "end_time": "2022-07-15T22:00:32.893997",
     "exception": false,
     "start_time": "2022-07-15T22:00:32.881019",
     "status": "completed"
    },
    "tags": []
   },
   "source": [
    "Hence taking into account the weighted ratings and the number of restaurants we get **New York** as the best overall state for food followed by **California** and **Texas**."
   ]
  },
  {
   "cell_type": "markdown",
   "id": "36387432",
   "metadata": {
    "papermill": {
     "duration": 0.013111,
     "end_time": "2022-07-15T22:00:32.920170",
     "exception": false,
     "start_time": "2022-07-15T22:00:32.907059",
     "status": "completed"
    },
    "tags": []
   },
   "source": [
    "## E. Best City for Food?"
   ]
  },
  {
   "cell_type": "code",
   "execution_count": 25,
   "id": "1282cccd",
   "metadata": {
    "execution": {
     "iopub.execute_input": "2022-07-15T22:00:32.948308Z",
     "iopub.status.busy": "2022-07-15T22:00:32.947785Z",
     "iopub.status.idle": "2022-07-15T22:00:33.359068Z",
     "shell.execute_reply": "2022-07-15T22:00:33.357751Z"
    },
    "papermill": {
     "duration": 0.427824,
     "end_time": "2022-07-15T22:00:33.361201",
     "exception": false,
     "start_time": "2022-07-15T22:00:32.933377",
     "status": "completed"
    },
    "tags": []
   },
   "outputs": [
    {
     "data": {
      "image/png": "[encoded data removed]",
      "text/plain": [
       "<Figure size 648x432 with 1 Axes>"
      ]
     },
     "metadata": {
      "needs_background": "light"
     },
     "output_type": "display_data"
    }
   ],
   "source": [
    "labels = df.City.unique().flatten()\n",
    "total_vote_share_list = [df[df.City==i].weighted_ratings.sum() for i in labels]\n",
    "total_wt_ratings = pd.DataFrame({'City':labels, 'Total Weighted Ratings': total_vote_share_list})\n",
    "total_wt_ratings = total_wt_ratings.sort_values(by=['Total Weighted Ratings'],ascending=False).head(5)\n",
    "plot = sns.catplot(x='City', y=\"Total Weighted Ratings\", kind=\"bar\", data=total_wt_ratings, palette=\"cubehelix\")\n",
    "plt.title(\"Top 5 Cities For Food\")\n",
    "plt.gcf().set_size_inches(9, 6)"
   ]
  },
  {
   "cell_type": "markdown",
   "id": "e1621dc4",
   "metadata": {
    "papermill": {
     "duration": 0.013526,
     "end_time": "2022-07-15T22:00:33.388340",
     "exception": false,
     "start_time": "2022-07-15T22:00:33.374814",
     "status": "completed"
    },
    "tags": []
   },
   "source": [
    "New York City is by Far the best city for food based on the weighted Ratings"
   ]
  },
  {
   "cell_type": "markdown",
   "id": "994261e3",
   "metadata": {
    "papermill": {
     "duration": 0.01332,
     "end_time": "2022-07-15T22:00:33.415291",
     "exception": false,
     "start_time": "2022-07-15T22:00:33.401971",
     "status": "completed"
    },
    "tags": []
   },
   "source": [
    "# Building a Recommender System"
   ]
  },
  {
   "cell_type": "markdown",
   "id": "e8681c79",
   "metadata": {
    "papermill": {
     "duration": 0.020698,
     "end_time": "2022-07-15T22:00:33.449510",
     "exception": false,
     "start_time": "2022-07-15T22:00:33.428812",
     "status": "completed"
    },
    "tags": []
   },
   "source": [
    "## Q. What is a Recommender System"
   ]
  },
  {
   "cell_type": "markdown",
   "id": "30a56a64",
   "metadata": {
    "papermill": {
     "duration": 0.020927,
     "end_time": "2022-07-15T22:00:33.491401",
     "exception": false,
     "start_time": "2022-07-15T22:00:33.470474",
     "status": "completed"
    },
    "tags": []
   },
   "source": [
    "Recommender Systems simply put, are AI algorithms that utilize Big Data to suggest additional products to consumers based on a variety of features. These recommendations can be based on factors such as past purchases, demographic info, their search history, time spent reviewing the product or a like, dislike or a comment left behind by these consumers.The idea of Recommender Systems is that if you can narrow down the pool of selection options for your customers to a few meaningful and relevant choices, they are more likely to make a purchase now, as well as come back for more down the road.\n",
    "\n",
    "![](https://res.cloudinary.com/practicaldev/image/fetch/s--06MuXVrA--/c_imagga_scale,f_auto,fl_progressive,h_420,q_auto,w_1000/https://dev-to-uploads.s3.amazonaws.com/i/vzed0zlhmfwbgdzxp2qo.png)"
   ]
  },
  {
   "cell_type": "markdown",
   "id": "15912b93",
   "metadata": {
    "papermill": {
     "duration": 0.020577,
     "end_time": "2022-07-15T22:00:33.533210",
     "exception": false,
     "start_time": "2022-07-15T22:00:33.512633",
     "status": "completed"
    },
    "tags": []
   },
   "source": [
    "## Q. What are the different Types of Recommender Systems?"
   ]
  },
  {
   "cell_type": "markdown",
   "id": "660618f0",
   "metadata": {
    "papermill": {
     "duration": 0.021562,
     "end_time": "2022-07-15T22:00:33.575929",
     "exception": false,
     "start_time": "2022-07-15T22:00:33.554367",
     "status": "completed"
    },
    "tags": []
   },
   "source": [
    "### Collaborative Filtering\n",
    "- The Collaborative filtering method for recommender systems is a method that is solely based on the past interactions that have been recorded between users and items, in order to produce new recommendations. \n",
    "\n",
    "- Collaborative Filtering tends to find what similar users would like and the recommendations to be provided and in order to classify the users into clusters of similar types and recommend each user according to the preference of its cluster. \n",
    "\n",
    "- The main idea that governs the collaborative methods is that through past user-item interactions when processed through the system, it becomes sufficient to detect similar users or similar items to make predictions based on these estimated facts and insights. \n",
    "\n",
    "### Content Based Filtering\n",
    "- The content-based approach uses additional information about users and/or items. This filtering method uses item features to recommend other items similar to what the user likes and also based on their previous actions or explicit feedback.\n",
    "\n",
    "- The main idea of content-based methods is to try to build a model, based on the available “features”, that explain the observed user-item interactions. \n",
    "\n",
    "- Such a model helps us in making new predictions for a user pretty easily, with just a look at the profile of this user and based on its information, to determine relevant movies to suggest. \n",
    "\n",
    "\n",
    "\n",
    "![](https://www.researchgate.net/profile/Lionel-Ngoupeyou-Tondji/publication/323726564/figure/fig5/AS:631605009846299@1527597777415/Content-based-filtering-vs-Collaborative-filtering-Source.png)\n",
    "\n",
    "\n",
    "### We will be using Content Based Filtering for this dataset"
   ]
  },
  {
   "cell_type": "code",
   "execution_count": 26,
   "id": "f70bae86",
   "metadata": {
    "execution": {
     "iopub.execute_input": "2022-07-15T22:00:33.619676Z",
     "iopub.status.busy": "2022-07-15T22:00:33.619095Z",
     "iopub.status.idle": "2022-07-15T22:00:33.625576Z",
     "shell.execute_reply": "2022-07-15T22:00:33.624930Z"
    },
    "papermill": {
     "duration": 0.030786,
     "end_time": "2022-07-15T22:00:33.627700",
     "exception": false,
     "start_time": "2022-07-15T22:00:33.596914",
     "status": "completed"
    },
    "tags": []
   },
   "outputs": [
    {
     "data": {
      "text/plain": [
       "0                                                        \n",
       "1       Both times we were there very late, after 11 P...\n",
       "2       Waitress was very friendly but a little pricey...\n",
       "3       Not sure why I went there for the second time....\n",
       "4       Doesn't look like much from the outside but wa...\n",
       "                              ...                        \n",
       "3055    We had to wait a few minutes to get it but it ...\n",
       "3056    Came here to see Andrea Gibson perform, we wer...\n",
       "3057    We come to Brio once a month. They are good fo...\n",
       "3058    Stopped in yesterday for Breakfast. When in Je...\n",
       "3059    First time for dinner. 2 couples. Delicious mu...\n",
       "Name: Comments, Length: 3059, dtype: object"
      ]
     },
     "execution_count": 26,
     "metadata": {},
     "output_type": "execute_result"
    }
   ],
   "source": [
    "#### Our Main Feature - Comments\n",
    "df.Comments"
   ]
  },
  {
   "cell_type": "code",
   "execution_count": 27,
   "id": "f39229e3",
   "metadata": {
    "execution": {
     "iopub.execute_input": "2022-07-15T22:00:33.673023Z",
     "iopub.status.busy": "2022-07-15T22:00:33.672492Z",
     "iopub.status.idle": "2022-07-15T22:00:33.757905Z",
     "shell.execute_reply": "2022-07-15T22:00:33.756816Z"
    },
    "papermill": {
     "duration": 0.110935,
     "end_time": "2022-07-15T22:00:33.760073",
     "exception": false,
     "start_time": "2022-07-15T22:00:33.649138",
     "status": "completed"
    },
    "tags": []
   },
   "outputs": [
    {
     "data": {
      "text/plain": [
       "(3059, 6241)"
      ]
     },
     "execution_count": 27,
     "metadata": {},
     "output_type": "execute_result"
    }
   ],
   "source": [
    "### Define a TF-IDF Vectorizer Object. Remove all english stop words such as 'the', 'a'\n",
    "tfidf = TfidfVectorizer(stop_words='english')\n",
    "\n",
    "### Construct the required tf-idf matrix by fitting and transforming the data\n",
    "tfidf_matrix = tfidf.fit_transform(df.Comments)\n",
    "\n",
    "### Output Shape of tf-idf matrix\n",
    "tfidf_matrix.shape"
   ]
  },
  {
   "cell_type": "code",
   "execution_count": 28,
   "id": "eb5edffb",
   "metadata": {
    "execution": {
     "iopub.execute_input": "2022-07-15T22:00:33.804342Z",
     "iopub.status.busy": "2022-07-15T22:00:33.804038Z",
     "iopub.status.idle": "2022-07-15T22:00:33.915955Z",
     "shell.execute_reply": "2022-07-15T22:00:33.914783Z"
    },
    "papermill": {
     "duration": 0.136929,
     "end_time": "2022-07-15T22:00:33.918614",
     "exception": false,
     "start_time": "2022-07-15T22:00:33.781685",
     "status": "completed"
    },
    "tags": []
   },
   "outputs": [],
   "source": [
    "#### Compute the cosine similarity matrix\n",
    "cosine_sim = linear_kernel(tfidf_matrix, tfidf_matrix)"
   ]
  },
  {
   "cell_type": "code",
   "execution_count": 29,
   "id": "4c5332bf",
   "metadata": {
    "execution": {
     "iopub.execute_input": "2022-07-15T22:00:33.963275Z",
     "iopub.status.busy": "2022-07-15T22:00:33.962976Z",
     "iopub.status.idle": "2022-07-15T22:00:33.971440Z",
     "shell.execute_reply": "2022-07-15T22:00:33.970464Z"
    },
    "papermill": {
     "duration": 0.032898,
     "end_time": "2022-07-15T22:00:33.973143",
     "exception": false,
     "start_time": "2022-07-15T22:00:33.940245",
     "status": "completed"
    },
    "tags": []
   },
   "outputs": [
    {
     "data": {
      "text/plain": [
       "Name\n",
       "Betty Lou's Seafood and Grill       0\n",
       "Coach House Diner                   1\n",
       "Table Talk Diner                    2\n",
       "Sixty Vines                         3\n",
       "The Clam Bar                        4\n",
       "                                 ... \n",
       "Indigo Kitchen & Ale House       3055\n",
       "City Vineyard                    3056\n",
       "BRIO Tuscan Grille               3057\n",
       "Maywood Pancake house            3058\n",
       "Porto Leggero                    3059\n",
       "Length: 3059, dtype: int64"
      ]
     },
     "execution_count": 29,
     "metadata": {},
     "output_type": "execute_result"
    }
   ],
   "source": [
    "### Construct a reverse map of indices and restaurant names\n",
    "indices = pd.Series(df.index, index=df.Name).drop_duplicates()\n",
    "indices"
   ]
  },
  {
   "cell_type": "code",
   "execution_count": 30,
   "id": "89c5983a",
   "metadata": {
    "execution": {
     "iopub.execute_input": "2022-07-15T22:00:34.008899Z",
     "iopub.status.busy": "2022-07-15T22:00:34.008171Z",
     "iopub.status.idle": "2022-07-15T22:00:34.013411Z",
     "shell.execute_reply": "2022-07-15T22:00:34.012819Z"
    },
    "papermill": {
     "duration": 0.02822,
     "end_time": "2022-07-15T22:00:34.015396",
     "exception": false,
     "start_time": "2022-07-15T22:00:33.987176",
     "status": "completed"
    },
    "tags": []
   },
   "outputs": [],
   "source": [
    "### Function that gives us the most similar restaurants\n",
    "def get_recommendations(name, cosine_sim=cosine_sim):\n",
    "    \n",
    "    ### Index of the restaurant which matches the name\n",
    "    idx = indices[name]\n",
    "    \n",
    "    ### Get the pairwise similarity\n",
    "    sim_scores = list(enumerate(cosine_sim[idx]))\n",
    "    \n",
    "    ### Sort the restaurants based on the similarity scores\n",
    "    sim_scores = sorted(sim_scores, key=lambda x:x[1], reverse=True)\n",
    "    \n",
    "    ### Get the similarity scores of the 10 Most similar restuarants\n",
    "    sim_scores = sim_scores[1:11]\n",
    "    \n",
    "    ### Get the restauarant inidices\n",
    "    restaurant_indices = [i[0] for i in sim_scores]\n",
    "    \n",
    "    ### Resturn the Top 10 most similar restaurants\n",
    "    return df['Name'].iloc[restaurant_indices]"
   ]
  },
  {
   "cell_type": "code",
   "execution_count": 31,
   "id": "d7c98f6e",
   "metadata": {
    "execution": {
     "iopub.execute_input": "2022-07-15T22:00:34.062201Z",
     "iopub.status.busy": "2022-07-15T22:00:34.061694Z",
     "iopub.status.idle": "2022-07-15T22:00:34.072497Z",
     "shell.execute_reply": "2022-07-15T22:00:34.071947Z"
    },
    "papermill": {
     "duration": 0.037325,
     "end_time": "2022-07-15T22:00:34.074511",
     "exception": false,
     "start_time": "2022-07-15T22:00:34.037186",
     "status": "completed"
    },
    "tags": []
   },
   "outputs": [
    {
     "data": {
      "text/plain": [
       "281                          Bean's & Lager\n",
       "1917                Pappas Bros. Steakhouse\n",
       "1186                              Bistro 18\n",
       "2340              The Blue fish Las Colinas\n",
       "998                   The Fork at Agate Bay\n",
       "1896                  Mediterranean Kitchen\n",
       "2737    Kitchen Table Cafe- Evergreen Place\n",
       "2351                           Square Lotus\n",
       "2276                      Dark Horse Tavern\n",
       "597                              Noah's Ark\n",
       "Name: Name, dtype: object"
      ]
     },
     "execution_count": 31,
     "metadata": {},
     "output_type": "execute_result"
    }
   ],
   "source": [
    "get_recommendations('Coach House Diner')"
   ]
  },
  {
   "cell_type": "markdown",
   "id": "1f0071a7",
   "metadata": {
    "execution": {
     "iopub.execute_input": "2022-07-15T21:54:04.253930Z",
     "iopub.status.busy": "2022-07-15T21:54:04.253498Z",
     "iopub.status.idle": "2022-07-15T21:54:04.261075Z",
     "shell.execute_reply": "2022-07-15T21:54:04.260176Z",
     "shell.execute_reply.started": "2022-07-15T21:54:04.253894Z"
    },
    "papermill": {
     "duration": 0.0216,
     "end_time": "2022-07-15T22:00:34.118062",
     "exception": false,
     "start_time": "2022-07-15T22:00:34.096462",
     "status": "completed"
    },
    "tags": []
   },
   "source": [
    "These are 10 Most Similar Restaurants based on Comments"
   ]
  }
 ],
 "metadata": {
  "kernelspec": {
   "display_name": "Python 3",
   "language": "python",
   "name": "python3"
  },
  "language_info": {
   "codemirror_mode": {
    "name": "ipython",
    "version": 3
   },
   "file_extension": ".py",
   "mimetype": "text/x-python",
   "name": "python",
   "nbconvert_exporter": "python",
   "pygments_lexer": "ipython3",
   "version": "3.7.12"
  },
  "papermill": {
   "default_parameters": {},
   "duration": 13.450885,
   "end_time": "2022-07-15T22:00:34.961377",
   "environment_variables": {},
   "exception": null,
   "input_path": "__notebook__.ipynb",
   "output_path": "__notebook__.ipynb",
   "parameters": {},
   "start_time": "2022-07-15T22:00:21.510492",
   "version": "2.3.4"
  }
 },
 "nbformat": 4,
 "nbformat_minor": 5
}
